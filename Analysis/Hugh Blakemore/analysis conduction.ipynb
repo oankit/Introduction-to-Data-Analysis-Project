{
 "cells": [
  {
   "cell_type": "code",
   "execution_count": 1,
   "id": "ruled-edmonton",
   "metadata": {},
   "outputs": [],
   "source": [
    "import pandas as pd\n",
    "import seaborn as sns\n",
    "import os\n",
    "import sys\n",
    "module_path = os.path.abspath(os.path.join('.'))\n",
    "if module_path not in sys.path:\n",
    "    sys.path.append(module_path)\n",
    "import project_functions\n",
    "url='https://raw.githubusercontent.com/data301-2020-winter2/course-project-group_1017/main/Data/Raw/medical_expenses.csv'"
   ]
  },
  {
   "cell_type": "markdown",
   "id": "legal-luxembourg",
   "metadata": {},
   "source": [
    "Our original data set is given below"
   ]
  },
  {
   "cell_type": "code",
   "execution_count": 2,
   "id": "discrete-tours",
   "metadata": {},
   "outputs": [
    {
     "data": {
      "text/html": [
       "<div>\n",
       "<style scoped>\n",
       "    .dataframe tbody tr th:only-of-type {\n",
       "        vertical-align: middle;\n",
       "    }\n",
       "\n",
       "    .dataframe tbody tr th {\n",
       "        vertical-align: top;\n",
       "    }\n",
       "\n",
       "    .dataframe thead th {\n",
       "        text-align: right;\n",
       "    }\n",
       "</style>\n",
       "<table border=\"1\" class=\"dataframe\">\n",
       "  <thead>\n",
       "    <tr style=\"text-align: right;\">\n",
       "      <th></th>\n",
       "      <th>age</th>\n",
       "      <th>sex</th>\n",
       "      <th>bmi</th>\n",
       "      <th>children</th>\n",
       "      <th>smoker</th>\n",
       "      <th>region</th>\n",
       "      <th>charges</th>\n",
       "    </tr>\n",
       "  </thead>\n",
       "  <tbody>\n",
       "    <tr>\n",
       "      <th>0</th>\n",
       "      <td>19</td>\n",
       "      <td>female</td>\n",
       "      <td>27.900</td>\n",
       "      <td>0</td>\n",
       "      <td>yes</td>\n",
       "      <td>southwest</td>\n",
       "      <td>16884.92400</td>\n",
       "    </tr>\n",
       "    <tr>\n",
       "      <th>1</th>\n",
       "      <td>18</td>\n",
       "      <td>male</td>\n",
       "      <td>33.770</td>\n",
       "      <td>1</td>\n",
       "      <td>no</td>\n",
       "      <td>southeast</td>\n",
       "      <td>1725.55230</td>\n",
       "    </tr>\n",
       "    <tr>\n",
       "      <th>2</th>\n",
       "      <td>28</td>\n",
       "      <td>male</td>\n",
       "      <td>33.000</td>\n",
       "      <td>3</td>\n",
       "      <td>no</td>\n",
       "      <td>southeast</td>\n",
       "      <td>4449.46200</td>\n",
       "    </tr>\n",
       "    <tr>\n",
       "      <th>3</th>\n",
       "      <td>33</td>\n",
       "      <td>male</td>\n",
       "      <td>22.705</td>\n",
       "      <td>0</td>\n",
       "      <td>no</td>\n",
       "      <td>northwest</td>\n",
       "      <td>21984.47061</td>\n",
       "    </tr>\n",
       "    <tr>\n",
       "      <th>4</th>\n",
       "      <td>32</td>\n",
       "      <td>male</td>\n",
       "      <td>28.880</td>\n",
       "      <td>0</td>\n",
       "      <td>no</td>\n",
       "      <td>northwest</td>\n",
       "      <td>3866.85520</td>\n",
       "    </tr>\n",
       "    <tr>\n",
       "      <th>...</th>\n",
       "      <td>...</td>\n",
       "      <td>...</td>\n",
       "      <td>...</td>\n",
       "      <td>...</td>\n",
       "      <td>...</td>\n",
       "      <td>...</td>\n",
       "      <td>...</td>\n",
       "    </tr>\n",
       "    <tr>\n",
       "      <th>1333</th>\n",
       "      <td>50</td>\n",
       "      <td>male</td>\n",
       "      <td>30.970</td>\n",
       "      <td>3</td>\n",
       "      <td>no</td>\n",
       "      <td>northwest</td>\n",
       "      <td>10600.54830</td>\n",
       "    </tr>\n",
       "    <tr>\n",
       "      <th>1334</th>\n",
       "      <td>18</td>\n",
       "      <td>female</td>\n",
       "      <td>31.920</td>\n",
       "      <td>0</td>\n",
       "      <td>no</td>\n",
       "      <td>northeast</td>\n",
       "      <td>2205.98080</td>\n",
       "    </tr>\n",
       "    <tr>\n",
       "      <th>1335</th>\n",
       "      <td>18</td>\n",
       "      <td>female</td>\n",
       "      <td>36.850</td>\n",
       "      <td>0</td>\n",
       "      <td>no</td>\n",
       "      <td>southeast</td>\n",
       "      <td>1629.83350</td>\n",
       "    </tr>\n",
       "    <tr>\n",
       "      <th>1336</th>\n",
       "      <td>21</td>\n",
       "      <td>female</td>\n",
       "      <td>25.800</td>\n",
       "      <td>0</td>\n",
       "      <td>no</td>\n",
       "      <td>southwest</td>\n",
       "      <td>2007.94500</td>\n",
       "    </tr>\n",
       "    <tr>\n",
       "      <th>1337</th>\n",
       "      <td>61</td>\n",
       "      <td>female</td>\n",
       "      <td>29.070</td>\n",
       "      <td>0</td>\n",
       "      <td>yes</td>\n",
       "      <td>northwest</td>\n",
       "      <td>29141.36030</td>\n",
       "    </tr>\n",
       "  </tbody>\n",
       "</table>\n",
       "<p>1338 rows × 7 columns</p>\n",
       "</div>"
      ],
      "text/plain": [
       "      age     sex     bmi  children smoker     region      charges\n",
       "0      19  female  27.900         0    yes  southwest  16884.92400\n",
       "1      18    male  33.770         1     no  southeast   1725.55230\n",
       "2      28    male  33.000         3     no  southeast   4449.46200\n",
       "3      33    male  22.705         0     no  northwest  21984.47061\n",
       "4      32    male  28.880         0     no  northwest   3866.85520\n",
       "...   ...     ...     ...       ...    ...        ...          ...\n",
       "1333   50    male  30.970         3     no  northwest  10600.54830\n",
       "1334   18  female  31.920         0     no  northeast   2205.98080\n",
       "1335   18  female  36.850         0     no  southeast   1629.83350\n",
       "1336   21  female  25.800         0     no  southwest   2007.94500\n",
       "1337   61  female  29.070         0    yes  northwest  29141.36030\n",
       "\n",
       "[1338 rows x 7 columns]"
      ]
     },
     "execution_count": 2,
     "metadata": {},
     "output_type": "execute_result"
    }
   ],
   "source": [
    "dfo=pd.read_csv(url)\n",
    "dfo"
   ]
  },
  {
   "cell_type": "markdown",
   "id": "fallen-construction",
   "metadata": {},
   "source": [
    "This data set is describing expected medical costs in America based on other variables, it is from Machine Learning with R by Brett Lantz. This dataset is pretty clean but I will do some wrangling to it so it can be better used for analysis. From this dataset I would like to be able to answer how unhealthy life styles such as under or over average bmi and smoking effect medical charges of an individual and to what extent these factors play a roll in expected charges of an individual "
   ]
  },
  {
   "cell_type": "markdown",
   "id": "eight-abortion",
   "metadata": {},
   "source": [
    "**Data Wrangling**\n",
    "---"
   ]
  },
  {
   "cell_type": "markdown",
   "id": "dirty-construction",
   "metadata": {},
   "source": [
    "---"
   ]
  },
  {
   "cell_type": "markdown",
   "id": "demanding-excuse",
   "metadata": {},
   "source": [
    "First I would like to add some columns to this dataset and change some of the variable names to better suit the variable it is representing"
   ]
  },
  {
   "cell_type": "code",
   "execution_count": 3,
   "id": "toxic-piano",
   "metadata": {},
   "outputs": [
    {
     "data": {
      "text/html": [
       "<div>\n",
       "<style scoped>\n",
       "    .dataframe tbody tr th:only-of-type {\n",
       "        vertical-align: middle;\n",
       "    }\n",
       "\n",
       "    .dataframe tbody tr th {\n",
       "        vertical-align: top;\n",
       "    }\n",
       "\n",
       "    .dataframe thead th {\n",
       "        text-align: right;\n",
       "    }\n",
       "</style>\n",
       "<table border=\"1\" class=\"dataframe\">\n",
       "  <thead>\n",
       "    <tr style=\"text-align: right;\">\n",
       "      <th></th>\n",
       "      <th>age</th>\n",
       "      <th>sex</th>\n",
       "      <th>bmi</th>\n",
       "      <th>smoker</th>\n",
       "      <th>charges</th>\n",
       "      <th>Excess_charges</th>\n",
       "      <th>Over_BMI</th>\n",
       "      <th>Under_BMI</th>\n",
       "      <th>Healthy</th>\n",
       "    </tr>\n",
       "  </thead>\n",
       "  <tbody>\n",
       "    <tr>\n",
       "      <th>0</th>\n",
       "      <td>18</td>\n",
       "      <td>male</td>\n",
       "      <td>23.2</td>\n",
       "      <td>no</td>\n",
       "      <td>1121.87</td>\n",
       "      <td>No</td>\n",
       "      <td>No</td>\n",
       "      <td>No</td>\n",
       "      <td>yes</td>\n",
       "    </tr>\n",
       "    <tr>\n",
       "      <th>1</th>\n",
       "      <td>18</td>\n",
       "      <td>male</td>\n",
       "      <td>30.1</td>\n",
       "      <td>no</td>\n",
       "      <td>1131.51</td>\n",
       "      <td>No</td>\n",
       "      <td>Yes</td>\n",
       "      <td>No</td>\n",
       "      <td>no</td>\n",
       "    </tr>\n",
       "    <tr>\n",
       "      <th>2</th>\n",
       "      <td>18</td>\n",
       "      <td>male</td>\n",
       "      <td>33.3</td>\n",
       "      <td>no</td>\n",
       "      <td>1135.94</td>\n",
       "      <td>No</td>\n",
       "      <td>Yes</td>\n",
       "      <td>No</td>\n",
       "      <td>no</td>\n",
       "    </tr>\n",
       "    <tr>\n",
       "      <th>3</th>\n",
       "      <td>18</td>\n",
       "      <td>male</td>\n",
       "      <td>33.7</td>\n",
       "      <td>no</td>\n",
       "      <td>1136.40</td>\n",
       "      <td>No</td>\n",
       "      <td>Yes</td>\n",
       "      <td>No</td>\n",
       "      <td>no</td>\n",
       "    </tr>\n",
       "    <tr>\n",
       "      <th>4</th>\n",
       "      <td>18</td>\n",
       "      <td>male</td>\n",
       "      <td>34.1</td>\n",
       "      <td>no</td>\n",
       "      <td>1137.01</td>\n",
       "      <td>No</td>\n",
       "      <td>Yes</td>\n",
       "      <td>No</td>\n",
       "      <td>no</td>\n",
       "    </tr>\n",
       "    <tr>\n",
       "      <th>...</th>\n",
       "      <td>...</td>\n",
       "      <td>...</td>\n",
       "      <td>...</td>\n",
       "      <td>...</td>\n",
       "      <td>...</td>\n",
       "      <td>...</td>\n",
       "      <td>...</td>\n",
       "      <td>...</td>\n",
       "      <td>...</td>\n",
       "    </tr>\n",
       "    <tr>\n",
       "      <th>1333</th>\n",
       "      <td>33</td>\n",
       "      <td>female</td>\n",
       "      <td>35.5</td>\n",
       "      <td>yes</td>\n",
       "      <td>55135.40</td>\n",
       "      <td>Yes</td>\n",
       "      <td>Yes</td>\n",
       "      <td>No</td>\n",
       "      <td>no</td>\n",
       "    </tr>\n",
       "    <tr>\n",
       "      <th>1334</th>\n",
       "      <td>31</td>\n",
       "      <td>female</td>\n",
       "      <td>38.1</td>\n",
       "      <td>yes</td>\n",
       "      <td>58571.07</td>\n",
       "      <td>Yes</td>\n",
       "      <td>Yes</td>\n",
       "      <td>No</td>\n",
       "      <td>no</td>\n",
       "    </tr>\n",
       "    <tr>\n",
       "      <th>1335</th>\n",
       "      <td>52</td>\n",
       "      <td>male</td>\n",
       "      <td>34.5</td>\n",
       "      <td>yes</td>\n",
       "      <td>60021.40</td>\n",
       "      <td>Yes</td>\n",
       "      <td>Yes</td>\n",
       "      <td>No</td>\n",
       "      <td>no</td>\n",
       "    </tr>\n",
       "    <tr>\n",
       "      <th>1336</th>\n",
       "      <td>45</td>\n",
       "      <td>male</td>\n",
       "      <td>30.4</td>\n",
       "      <td>yes</td>\n",
       "      <td>62592.87</td>\n",
       "      <td>Yes</td>\n",
       "      <td>Yes</td>\n",
       "      <td>No</td>\n",
       "      <td>no</td>\n",
       "    </tr>\n",
       "    <tr>\n",
       "      <th>1337</th>\n",
       "      <td>54</td>\n",
       "      <td>female</td>\n",
       "      <td>47.4</td>\n",
       "      <td>yes</td>\n",
       "      <td>63770.43</td>\n",
       "      <td>Yes</td>\n",
       "      <td>Yes</td>\n",
       "      <td>No</td>\n",
       "      <td>no</td>\n",
       "    </tr>\n",
       "  </tbody>\n",
       "</table>\n",
       "<p>1338 rows × 9 columns</p>\n",
       "</div>"
      ],
      "text/plain": [
       "      age     sex   bmi smoker   charges Excess_charges Over_BMI Under_BMI  \\\n",
       "0      18    male  23.2     no   1121.87             No       No        No   \n",
       "1      18    male  30.1     no   1131.51             No      Yes        No   \n",
       "2      18    male  33.3     no   1135.94             No      Yes        No   \n",
       "3      18    male  33.7     no   1136.40             No      Yes        No   \n",
       "4      18    male  34.1     no   1137.01             No      Yes        No   \n",
       "...   ...     ...   ...    ...       ...            ...      ...       ...   \n",
       "1333   33  female  35.5    yes  55135.40            Yes      Yes        No   \n",
       "1334   31  female  38.1    yes  58571.07            Yes      Yes        No   \n",
       "1335   52    male  34.5    yes  60021.40            Yes      Yes        No   \n",
       "1336   45    male  30.4    yes  62592.87            Yes      Yes        No   \n",
       "1337   54  female  47.4    yes  63770.43            Yes      Yes        No   \n",
       "\n",
       "     Healthy  \n",
       "0        yes  \n",
       "1         no  \n",
       "2         no  \n",
       "3         no  \n",
       "4         no  \n",
       "...      ...  \n",
       "1333      no  \n",
       "1334      no  \n",
       "1335      no  \n",
       "1336      no  \n",
       "1337      no  \n",
       "\n",
       "[1338 rows x 9 columns]"
      ]
     },
     "execution_count": 3,
     "metadata": {},
     "output_type": "execute_result"
    }
   ],
   "source": [
    "df=project_functions.load_and_process(url)\n",
    "df"
   ]
  },
  {
   "cell_type": "markdown",
   "id": "coordinate-cemetery",
   "metadata": {},
   "source": [
    "Here i dropped the children and the region column as they wont be used in further analysis so they are redundant and I rounded the bmi amd charges to values that are more commonly used."
   ]
  },
  {
   "cell_type": "code",
   "execution_count": 4,
   "id": "spanish-biography",
   "metadata": {},
   "outputs": [
    {
     "data": {
      "text/plain": [
       "13270.42"
      ]
     },
     "execution_count": 4,
     "metadata": {},
     "output_type": "execute_result"
    }
   ],
   "source": [
    "project_functions.mean(df)"
   ]
  },
  {
   "cell_type": "markdown",
   "id": "every-consciousness",
   "metadata": {},
   "source": [
    "Taking a mean of the charges column returns a value of 13270.42 which we used to determine if the patient is given excessive charges which means they pay out more than expected on average. Next i want to seperate the data sets into healthy and not healthy populations to see how excessive charges changes throughout the population"
   ]
  },
  {
   "cell_type": "code",
   "execution_count": 5,
   "id": "golden-accident",
   "metadata": {},
   "outputs": [],
   "source": [
    "dfh = project_functions.Health(url)\n",
    "dfun =project_functions.unHealth(url)"
   ]
  },
  {
   "cell_type": "code",
   "execution_count": 6,
   "id": "distributed-hacker",
   "metadata": {},
   "outputs": [
    {
     "data": {
      "text/html": [
       "<div>\n",
       "<style scoped>\n",
       "    .dataframe tbody tr th:only-of-type {\n",
       "        vertical-align: middle;\n",
       "    }\n",
       "\n",
       "    .dataframe tbody tr th {\n",
       "        vertical-align: top;\n",
       "    }\n",
       "\n",
       "    .dataframe thead th {\n",
       "        text-align: right;\n",
       "    }\n",
       "</style>\n",
       "<table border=\"1\" class=\"dataframe\">\n",
       "  <thead>\n",
       "    <tr style=\"text-align: right;\">\n",
       "      <th></th>\n",
       "      <th>age</th>\n",
       "      <th>sex</th>\n",
       "      <th>bmi</th>\n",
       "      <th>smoker</th>\n",
       "      <th>charges</th>\n",
       "      <th>Excess_charges</th>\n",
       "      <th>Healthy</th>\n",
       "    </tr>\n",
       "  </thead>\n",
       "  <tbody>\n",
       "    <tr>\n",
       "      <th>0</th>\n",
       "      <td>18</td>\n",
       "      <td>male</td>\n",
       "      <td>23.2</td>\n",
       "      <td>no</td>\n",
       "      <td>1121.87</td>\n",
       "      <td>No</td>\n",
       "      <td>yes</td>\n",
       "    </tr>\n",
       "    <tr>\n",
       "      <th>1</th>\n",
       "      <td>19</td>\n",
       "      <td>male</td>\n",
       "      <td>19.8</td>\n",
       "      <td>no</td>\n",
       "      <td>1241.56</td>\n",
       "      <td>No</td>\n",
       "      <td>yes</td>\n",
       "    </tr>\n",
       "    <tr>\n",
       "      <th>2</th>\n",
       "      <td>19</td>\n",
       "      <td>male</td>\n",
       "      <td>20.3</td>\n",
       "      <td>no</td>\n",
       "      <td>1242.26</td>\n",
       "      <td>No</td>\n",
       "      <td>yes</td>\n",
       "    </tr>\n",
       "    <tr>\n",
       "      <th>3</th>\n",
       "      <td>19</td>\n",
       "      <td>male</td>\n",
       "      <td>20.7</td>\n",
       "      <td>no</td>\n",
       "      <td>1242.82</td>\n",
       "      <td>No</td>\n",
       "      <td>yes</td>\n",
       "    </tr>\n",
       "    <tr>\n",
       "      <th>4</th>\n",
       "      <td>21</td>\n",
       "      <td>male</td>\n",
       "      <td>23.2</td>\n",
       "      <td>no</td>\n",
       "      <td>1515.34</td>\n",
       "      <td>No</td>\n",
       "      <td>yes</td>\n",
       "    </tr>\n",
       "    <tr>\n",
       "      <th>...</th>\n",
       "      <td>...</td>\n",
       "      <td>...</td>\n",
       "      <td>...</td>\n",
       "      <td>...</td>\n",
       "      <td>...</td>\n",
       "      <td>...</td>\n",
       "      <td>...</td>\n",
       "    </tr>\n",
       "    <tr>\n",
       "      <th>167</th>\n",
       "      <td>24</td>\n",
       "      <td>female</td>\n",
       "      <td>23.2</td>\n",
       "      <td>no</td>\n",
       "      <td>25081.77</td>\n",
       "      <td>Yes</td>\n",
       "      <td>yes</td>\n",
       "    </tr>\n",
       "    <tr>\n",
       "      <th>168</th>\n",
       "      <td>47</td>\n",
       "      <td>female</td>\n",
       "      <td>24.1</td>\n",
       "      <td>no</td>\n",
       "      <td>26236.58</td>\n",
       "      <td>Yes</td>\n",
       "      <td>yes</td>\n",
       "    </tr>\n",
       "    <tr>\n",
       "      <th>169</th>\n",
       "      <td>52</td>\n",
       "      <td>female</td>\n",
       "      <td>24.9</td>\n",
       "      <td>no</td>\n",
       "      <td>27117.99</td>\n",
       "      <td>Yes</td>\n",
       "      <td>yes</td>\n",
       "    </tr>\n",
       "    <tr>\n",
       "      <th>170</th>\n",
       "      <td>34</td>\n",
       "      <td>male</td>\n",
       "      <td>22.4</td>\n",
       "      <td>no</td>\n",
       "      <td>27375.90</td>\n",
       "      <td>Yes</td>\n",
       "      <td>yes</td>\n",
       "    </tr>\n",
       "    <tr>\n",
       "      <th>171</th>\n",
       "      <td>64</td>\n",
       "      <td>male</td>\n",
       "      <td>24.7</td>\n",
       "      <td>no</td>\n",
       "      <td>30166.62</td>\n",
       "      <td>Yes</td>\n",
       "      <td>yes</td>\n",
       "    </tr>\n",
       "  </tbody>\n",
       "</table>\n",
       "<p>172 rows × 7 columns</p>\n",
       "</div>"
      ],
      "text/plain": [
       "     age     sex   bmi smoker   charges Excess_charges Healthy\n",
       "0     18    male  23.2     no   1121.87             No     yes\n",
       "1     19    male  19.8     no   1241.56             No     yes\n",
       "2     19    male  20.3     no   1242.26             No     yes\n",
       "3     19    male  20.7     no   1242.82             No     yes\n",
       "4     21    male  23.2     no   1515.34             No     yes\n",
       "..   ...     ...   ...    ...       ...            ...     ...\n",
       "167   24  female  23.2     no  25081.77            Yes     yes\n",
       "168   47  female  24.1     no  26236.58            Yes     yes\n",
       "169   52  female  24.9     no  27117.99            Yes     yes\n",
       "170   34    male  22.4     no  27375.90            Yes     yes\n",
       "171   64    male  24.7     no  30166.62            Yes     yes\n",
       "\n",
       "[172 rows x 7 columns]"
      ]
     },
     "execution_count": 6,
     "metadata": {},
     "output_type": "execute_result"
    }
   ],
   "source": [
    "dfh"
   ]
  },
  {
   "cell_type": "markdown",
   "id": "considerable-malpractice",
   "metadata": {},
   "source": [
    "Here is the data set for healthy people, the requirements for this was to be in healthy bmi range of 18.5-24.9 and to not be a smoker."
   ]
  },
  {
   "cell_type": "code",
   "execution_count": 7,
   "id": "comprehensive-samuel",
   "metadata": {},
   "outputs": [
    {
     "data": {
      "text/html": [
       "<div>\n",
       "<style scoped>\n",
       "    .dataframe tbody tr th:only-of-type {\n",
       "        vertical-align: middle;\n",
       "    }\n",
       "\n",
       "    .dataframe tbody tr th {\n",
       "        vertical-align: top;\n",
       "    }\n",
       "\n",
       "    .dataframe thead th {\n",
       "        text-align: right;\n",
       "    }\n",
       "</style>\n",
       "<table border=\"1\" class=\"dataframe\">\n",
       "  <thead>\n",
       "    <tr style=\"text-align: right;\">\n",
       "      <th></th>\n",
       "      <th>age</th>\n",
       "      <th>sex</th>\n",
       "      <th>bmi</th>\n",
       "      <th>smoker</th>\n",
       "      <th>charges</th>\n",
       "      <th>Excess_charges</th>\n",
       "      <th>Healthy</th>\n",
       "    </tr>\n",
       "  </thead>\n",
       "  <tbody>\n",
       "    <tr>\n",
       "      <th>0</th>\n",
       "      <td>18</td>\n",
       "      <td>male</td>\n",
       "      <td>30.1</td>\n",
       "      <td>no</td>\n",
       "      <td>1131.51</td>\n",
       "      <td>No</td>\n",
       "      <td>no</td>\n",
       "    </tr>\n",
       "    <tr>\n",
       "      <th>1</th>\n",
       "      <td>18</td>\n",
       "      <td>male</td>\n",
       "      <td>33.3</td>\n",
       "      <td>no</td>\n",
       "      <td>1135.94</td>\n",
       "      <td>No</td>\n",
       "      <td>no</td>\n",
       "    </tr>\n",
       "    <tr>\n",
       "      <th>2</th>\n",
       "      <td>18</td>\n",
       "      <td>male</td>\n",
       "      <td>33.7</td>\n",
       "      <td>no</td>\n",
       "      <td>1136.40</td>\n",
       "      <td>No</td>\n",
       "      <td>no</td>\n",
       "    </tr>\n",
       "    <tr>\n",
       "      <th>3</th>\n",
       "      <td>18</td>\n",
       "      <td>male</td>\n",
       "      <td>34.1</td>\n",
       "      <td>no</td>\n",
       "      <td>1137.01</td>\n",
       "      <td>No</td>\n",
       "      <td>no</td>\n",
       "    </tr>\n",
       "    <tr>\n",
       "      <th>4</th>\n",
       "      <td>18</td>\n",
       "      <td>male</td>\n",
       "      <td>34.4</td>\n",
       "      <td>no</td>\n",
       "      <td>1137.47</td>\n",
       "      <td>No</td>\n",
       "      <td>no</td>\n",
       "    </tr>\n",
       "    <tr>\n",
       "      <th>...</th>\n",
       "      <td>...</td>\n",
       "      <td>...</td>\n",
       "      <td>...</td>\n",
       "      <td>...</td>\n",
       "      <td>...</td>\n",
       "      <td>...</td>\n",
       "      <td>...</td>\n",
       "    </tr>\n",
       "    <tr>\n",
       "      <th>1161</th>\n",
       "      <td>33</td>\n",
       "      <td>female</td>\n",
       "      <td>35.5</td>\n",
       "      <td>yes</td>\n",
       "      <td>55135.40</td>\n",
       "      <td>Yes</td>\n",
       "      <td>no</td>\n",
       "    </tr>\n",
       "    <tr>\n",
       "      <th>1162</th>\n",
       "      <td>31</td>\n",
       "      <td>female</td>\n",
       "      <td>38.1</td>\n",
       "      <td>yes</td>\n",
       "      <td>58571.07</td>\n",
       "      <td>Yes</td>\n",
       "      <td>no</td>\n",
       "    </tr>\n",
       "    <tr>\n",
       "      <th>1163</th>\n",
       "      <td>52</td>\n",
       "      <td>male</td>\n",
       "      <td>34.5</td>\n",
       "      <td>yes</td>\n",
       "      <td>60021.40</td>\n",
       "      <td>Yes</td>\n",
       "      <td>no</td>\n",
       "    </tr>\n",
       "    <tr>\n",
       "      <th>1164</th>\n",
       "      <td>45</td>\n",
       "      <td>male</td>\n",
       "      <td>30.4</td>\n",
       "      <td>yes</td>\n",
       "      <td>62592.87</td>\n",
       "      <td>Yes</td>\n",
       "      <td>no</td>\n",
       "    </tr>\n",
       "    <tr>\n",
       "      <th>1165</th>\n",
       "      <td>54</td>\n",
       "      <td>female</td>\n",
       "      <td>47.4</td>\n",
       "      <td>yes</td>\n",
       "      <td>63770.43</td>\n",
       "      <td>Yes</td>\n",
       "      <td>no</td>\n",
       "    </tr>\n",
       "  </tbody>\n",
       "</table>\n",
       "<p>1166 rows × 7 columns</p>\n",
       "</div>"
      ],
      "text/plain": [
       "      age     sex   bmi smoker   charges Excess_charges Healthy\n",
       "0      18    male  30.1     no   1131.51             No      no\n",
       "1      18    male  33.3     no   1135.94             No      no\n",
       "2      18    male  33.7     no   1136.40             No      no\n",
       "3      18    male  34.1     no   1137.01             No      no\n",
       "4      18    male  34.4     no   1137.47             No      no\n",
       "...   ...     ...   ...    ...       ...            ...     ...\n",
       "1161   33  female  35.5    yes  55135.40            Yes      no\n",
       "1162   31  female  38.1    yes  58571.07            Yes      no\n",
       "1163   52    male  34.5    yes  60021.40            Yes      no\n",
       "1164   45    male  30.4    yes  62592.87            Yes      no\n",
       "1165   54  female  47.4    yes  63770.43            Yes      no\n",
       "\n",
       "[1166 rows x 7 columns]"
      ]
     },
     "execution_count": 7,
     "metadata": {},
     "output_type": "execute_result"
    }
   ],
   "source": [
    "dfun"
   ]
  },
  {
   "cell_type": "markdown",
   "id": "sonic-contest",
   "metadata": {},
   "source": [
    "Here is the data set for unhealthy people the requirments are the inverse of the healthy data set thus they have to be outside the healthy bmi range or be classified as a smoker. We can first look at some regression plots of age vs charges to see how having a unhealthy lifestyle effects the charges"
   ]
  },
  {
   "cell_type": "markdown",
   "id": "grateful-intersection",
   "metadata": {},
   "source": [
    "**Regression Plots**\n",
    "---"
   ]
  },
  {
   "cell_type": "markdown",
   "id": "joint-stuff",
   "metadata": {},
   "source": [
    "---"
   ]
  },
  {
   "cell_type": "code",
   "execution_count": 8,
   "id": "external-nation",
   "metadata": {},
   "outputs": [
    {
     "data": {
      "text/plain": [
       "<seaborn.axisgrid.FacetGrid at 0x22fd66810a0>"
      ]
     },
     "execution_count": 8,
     "metadata": {},
     "output_type": "execute_result"
    },
    {
     "data": {
      "image/png": "[encoded data removed]",
      "text/plain": [
       "<Figure size 360x360 with 1 Axes>"
      ]
     },
     "metadata": {},
     "output_type": "display_data"
    }
   ],
   "source": [
    "project_functions.plotAvC(df)"
   ]
  },
  {
   "cell_type": "markdown",
   "id": "pointed-sunday",
   "metadata": {},
   "source": [
    "Regression plot for whole population"
   ]
  },
  {
   "cell_type": "code",
   "execution_count": 9,
   "id": "interesting-evaluation",
   "metadata": {},
   "outputs": [
    {
     "data": {
      "text/plain": [
       "<seaborn.axisgrid.FacetGrid at 0x22fdbcdc970>"
      ]
     },
     "execution_count": 9,
     "metadata": {},
     "output_type": "execute_result"
    },
    {
     "data": {
      "image/png": "[encoded data removed]",
      "text/plain": [
       "<Figure size 360x360 with 1 Axes>"
      ]
     },
     "metadata": {},
     "output_type": "display_data"
    }
   ],
   "source": [
    "project_functions.plotAvC(dfh)"
   ]
  },
  {
   "cell_type": "markdown",
   "id": "progressive-layout",
   "metadata": {},
   "source": [
    "Regression plot for healthy indivduals"
   ]
  },
  {
   "cell_type": "code",
   "execution_count": 10,
   "id": "biblical-roberts",
   "metadata": {},
   "outputs": [
    {
     "data": {
      "text/plain": [
       "<seaborn.axisgrid.FacetGrid at 0x22fdbd0e820>"
      ]
     },
     "execution_count": 10,
     "metadata": {},
     "output_type": "execute_result"
    },
    {
     "data": {
      "image/png": "[encoded data removed]",
      "text/plain": [
       "<Figure size 360x360 with 1 Axes>"
      ]
     },
     "metadata": {},
     "output_type": "display_data"
    }
   ],
   "source": [
    "project_functions.plotAvC(dfun)"
   ]
  },
  {
   "cell_type": "markdown",
   "id": "encouraging-small",
   "metadata": {},
   "source": [
    "Regression plot for unhelathy individuals"
   ]
  },
  {
   "cell_type": "markdown",
   "id": "dying-climate",
   "metadata": {},
   "source": [
    "from a quick look we can clearly tell from the regression line that having a unhealthy habit leads to on average a higher charge at each age with only the outliers of the healthy individuals coming close to the average of the unhealthy ones.This is fairly ordinary as more unhealthy habits require more health check uos etc.However on closer inspection we see that in this unhealthy group there is a lot of spread of data points with there looking like there is actually 3 populations in this dataset, this makes sense as the requirement of this dataset was to be smoker OR outside the healthy bmi range which results in 3 different datsets more on that later.\n",
    "\n",
    "For now we can look at how more likely a indiviudal is to have excess charges if they have a unhealthy trait with frequency ar counts."
   ]
  },
  {
   "cell_type": "markdown",
   "id": "composite-address",
   "metadata": {},
   "source": [
    "**Bar plots**\n",
    "---"
   ]
  },
  {
   "cell_type": "markdown",
   "id": "generous-devil",
   "metadata": {},
   "source": [
    "---"
   ]
  },
  {
   "cell_type": "code",
   "execution_count": 11,
   "id": "dominican-coordination",
   "metadata": {},
   "outputs": [
    {
     "data": {
      "text/plain": [
       "<AxesSubplot:xlabel='Excess_charges', ylabel='Density'>"
      ]
     },
     "execution_count": 11,
     "metadata": {},
     "output_type": "execute_result"
    },
    {
     "data": {
      "image/png": "[encoded data removed]",
      "text/plain": [
       "<Figure size 432x288 with 1 Axes>"
      ]
     },
     "metadata": {},
     "output_type": "display_data"
    }
   ],
   "source": [
    "project_functions.BrPltECD(df)"
   ]
  },
  {
   "cell_type": "markdown",
   "id": "manufactured-mediterranean",
   "metadata": {},
   "source": [
    "Bar plot for whole population"
   ]
  },
  {
   "cell_type": "code",
   "execution_count": 12,
   "id": "desperate-mercy",
   "metadata": {},
   "outputs": [
    {
     "data": {
      "text/plain": [
       "<AxesSubplot:xlabel='Excess_charges', ylabel='Density'>"
      ]
     },
     "execution_count": 12,
     "metadata": {},
     "output_type": "execute_result"
    },
    {
     "data": {
      "image/png": "[encoded data removed]",
      "text/plain": [
       "<Figure size 432x288 with 1 Axes>"
      ]
     },
     "metadata": {},
     "output_type": "display_data"
    }
   ],
   "source": [
    "project_functions.BrPltECD(dfh)"
   ]
  },
  {
   "cell_type": "markdown",
   "id": "mediterranean-pierre",
   "metadata": {},
   "source": [
    "frequency count of if an indivdual is to recieve excess charges in healthy population"
   ]
  },
  {
   "cell_type": "code",
   "execution_count": 13,
   "id": "dying-zoning",
   "metadata": {},
   "outputs": [
    {
     "data": {
      "text/plain": [
       "<AxesSubplot:xlabel='Excess_charges', ylabel='Density'>"
      ]
     },
     "execution_count": 13,
     "metadata": {},
     "output_type": "execute_result"
    },
    {
     "data": {
      "image/png": "[encoded data removed]",
      "text/plain": [
       "<Figure size 432x288 with 1 Axes>"
      ]
     },
     "metadata": {},
     "output_type": "display_data"
    }
   ],
   "source": [
    "project_functions.BrPltECD(dfun)"
   ]
  },
  {
   "cell_type": "markdown",
   "id": "tough-momentum",
   "metadata": {},
   "source": [
    "frequency count of if an indivdual is to recieve excess charges in unhealthy population"
   ]
  },
  {
   "cell_type": "markdown",
   "id": "assisted-stock",
   "metadata": {},
   "source": [
    "This further reinforces that a unhealthly life choice leads to a higher chance of an individual receiving a higher than average medical bill charge. We saw that there was outliers on the regression plots and we also couldnt see how much the data was spread for the healthy and unhealthy groups to better visualise this we can use box plots"
   ]
  },
  {
   "cell_type": "markdown",
   "id": "incorporated-black",
   "metadata": {},
   "source": [
    "**Box plots**\n",
    "---"
   ]
  },
  {
   "cell_type": "markdown",
   "id": "emerging-march",
   "metadata": {},
   "source": [
    "---"
   ]
  },
  {
   "cell_type": "code",
   "execution_count": 14,
   "id": "temporal-third",
   "metadata": {},
   "outputs": [
    {
     "data": {
      "text/plain": [
       "<AxesSubplot:xlabel='Healthy', ylabel='charges'>"
      ]
     },
     "execution_count": 14,
     "metadata": {},
     "output_type": "execute_result"
    },
    {
     "data": {
      "image/png": "[encoded data removed]",
      "text/plain": [
       "<Figure size 432x288 with 1 Axes>"
      ]
     },
     "metadata": {},
     "output_type": "display_data"
    }
   ],
   "source": [
    "project_functions.BoxPlt(df)"
   ]
  },
  {
   "cell_type": "markdown",
   "id": "pointed-crack",
   "metadata": {},
   "source": [
    "This further shows us the spread of the unhealthy charges this is due to their being multiple distrubutions collected in there but from the analysis of healthy vs unhealthy it further shows how much less the people with a healthy life style pay less charges. We can draw many conclusions just from this graph, we can see that 75% of the healthy population pay less than 10,000 whilst only 50% of the unhealthy population pays below this figure."
   ]
  },
  {
   "cell_type": "markdown",
   "id": "racial-preparation",
   "metadata": {},
   "source": [
    "**different Unhealthy categories**\n",
    "---"
   ]
  },
  {
   "cell_type": "markdown",
   "id": "funny-florida",
   "metadata": {},
   "source": [
    "---"
   ]
  },
  {
   "cell_type": "markdown",
   "id": "alternate-physiology",
   "metadata": {},
   "source": [
    "We mentioned earlier how in the unhelathy regression plot there seemed to be 3 different distributions now lets look at these in further depth and how they effect the charges, the 3 categories for this are under bmi,over bmi and smokers. First lets create data frames for each of these categories with only one variable per person"
   ]
  },
  {
   "cell_type": "code",
   "execution_count": 15,
   "id": "beautiful-cherry",
   "metadata": {},
   "outputs": [
    {
     "data": {
      "text/html": [
       "<div>\n",
       "<style scoped>\n",
       "    .dataframe tbody tr th:only-of-type {\n",
       "        vertical-align: middle;\n",
       "    }\n",
       "\n",
       "    .dataframe tbody tr th {\n",
       "        vertical-align: top;\n",
       "    }\n",
       "\n",
       "    .dataframe thead th {\n",
       "        text-align: right;\n",
       "    }\n",
       "</style>\n",
       "<table border=\"1\" class=\"dataframe\">\n",
       "  <thead>\n",
       "    <tr style=\"text-align: right;\">\n",
       "      <th></th>\n",
       "      <th>age</th>\n",
       "      <th>sex</th>\n",
       "      <th>bmi</th>\n",
       "      <th>smoker</th>\n",
       "      <th>charges</th>\n",
       "      <th>Excess_charges</th>\n",
       "    </tr>\n",
       "  </thead>\n",
       "  <tbody>\n",
       "    <tr>\n",
       "      <th>0</th>\n",
       "      <td>18</td>\n",
       "      <td>male</td>\n",
       "      <td>21.6</td>\n",
       "      <td>yes</td>\n",
       "      <td>13747.87</td>\n",
       "      <td>Yes</td>\n",
       "    </tr>\n",
       "    <tr>\n",
       "      <th>1</th>\n",
       "      <td>19</td>\n",
       "      <td>female</td>\n",
       "      <td>21.7</td>\n",
       "      <td>yes</td>\n",
       "      <td>13844.51</td>\n",
       "      <td>Yes</td>\n",
       "    </tr>\n",
       "    <tr>\n",
       "      <th>2</th>\n",
       "      <td>18</td>\n",
       "      <td>female</td>\n",
       "      <td>21.7</td>\n",
       "      <td>yes</td>\n",
       "      <td>14283.46</td>\n",
       "      <td>Yes</td>\n",
       "    </tr>\n",
       "    <tr>\n",
       "      <th>3</th>\n",
       "      <td>24</td>\n",
       "      <td>female</td>\n",
       "      <td>20.5</td>\n",
       "      <td>yes</td>\n",
       "      <td>14571.89</td>\n",
       "      <td>Yes</td>\n",
       "    </tr>\n",
       "    <tr>\n",
       "      <th>4</th>\n",
       "      <td>20</td>\n",
       "      <td>female</td>\n",
       "      <td>22.4</td>\n",
       "      <td>yes</td>\n",
       "      <td>14711.74</td>\n",
       "      <td>Yes</td>\n",
       "    </tr>\n",
       "    <tr>\n",
       "      <th>5</th>\n",
       "      <td>21</td>\n",
       "      <td>female</td>\n",
       "      <td>21.8</td>\n",
       "      <td>yes</td>\n",
       "      <td>15359.10</td>\n",
       "      <td>Yes</td>\n",
       "    </tr>\n",
       "    <tr>\n",
       "      <th>6</th>\n",
       "      <td>25</td>\n",
       "      <td>male</td>\n",
       "      <td>24.1</td>\n",
       "      <td>yes</td>\n",
       "      <td>15817.99</td>\n",
       "      <td>Yes</td>\n",
       "    </tr>\n",
       "    <tr>\n",
       "      <th>7</th>\n",
       "      <td>38</td>\n",
       "      <td>male</td>\n",
       "      <td>19.3</td>\n",
       "      <td>yes</td>\n",
       "      <td>15820.70</td>\n",
       "      <td>Yes</td>\n",
       "    </tr>\n",
       "    <tr>\n",
       "      <th>8</th>\n",
       "      <td>29</td>\n",
       "      <td>female</td>\n",
       "      <td>21.8</td>\n",
       "      <td>yes</td>\n",
       "      <td>16115.30</td>\n",
       "      <td>Yes</td>\n",
       "    </tr>\n",
       "    <tr>\n",
       "      <th>9</th>\n",
       "      <td>29</td>\n",
       "      <td>male</td>\n",
       "      <td>22.9</td>\n",
       "      <td>yes</td>\n",
       "      <td>16138.76</td>\n",
       "      <td>Yes</td>\n",
       "    </tr>\n",
       "    <tr>\n",
       "      <th>10</th>\n",
       "      <td>27</td>\n",
       "      <td>female</td>\n",
       "      <td>20.0</td>\n",
       "      <td>yes</td>\n",
       "      <td>16420.49</td>\n",
       "      <td>Yes</td>\n",
       "    </tr>\n",
       "    <tr>\n",
       "      <th>11</th>\n",
       "      <td>27</td>\n",
       "      <td>female</td>\n",
       "      <td>24.8</td>\n",
       "      <td>yes</td>\n",
       "      <td>16577.78</td>\n",
       "      <td>Yes</td>\n",
       "    </tr>\n",
       "    <tr>\n",
       "      <th>12</th>\n",
       "      <td>29</td>\n",
       "      <td>female</td>\n",
       "      <td>21.8</td>\n",
       "      <td>yes</td>\n",
       "      <td>16657.72</td>\n",
       "      <td>Yes</td>\n",
       "    </tr>\n",
       "    <tr>\n",
       "      <th>13</th>\n",
       "      <td>33</td>\n",
       "      <td>female</td>\n",
       "      <td>19.1</td>\n",
       "      <td>yes</td>\n",
       "      <td>16776.30</td>\n",
       "      <td>Yes</td>\n",
       "    </tr>\n",
       "    <tr>\n",
       "      <th>14</th>\n",
       "      <td>40</td>\n",
       "      <td>male</td>\n",
       "      <td>19.8</td>\n",
       "      <td>yes</td>\n",
       "      <td>17179.52</td>\n",
       "      <td>Yes</td>\n",
       "    </tr>\n",
       "    <tr>\n",
       "      <th>15</th>\n",
       "      <td>30</td>\n",
       "      <td>male</td>\n",
       "      <td>23.0</td>\n",
       "      <td>yes</td>\n",
       "      <td>17361.77</td>\n",
       "      <td>Yes</td>\n",
       "    </tr>\n",
       "    <tr>\n",
       "      <th>16</th>\n",
       "      <td>32</td>\n",
       "      <td>female</td>\n",
       "      <td>24.6</td>\n",
       "      <td>yes</td>\n",
       "      <td>17496.31</td>\n",
       "      <td>Yes</td>\n",
       "    </tr>\n",
       "    <tr>\n",
       "      <th>17</th>\n",
       "      <td>28</td>\n",
       "      <td>male</td>\n",
       "      <td>24.0</td>\n",
       "      <td>yes</td>\n",
       "      <td>17663.14</td>\n",
       "      <td>Yes</td>\n",
       "    </tr>\n",
       "    <tr>\n",
       "      <th>18</th>\n",
       "      <td>33</td>\n",
       "      <td>male</td>\n",
       "      <td>24.8</td>\n",
       "      <td>yes</td>\n",
       "      <td>17904.53</td>\n",
       "      <td>Yes</td>\n",
       "    </tr>\n",
       "    <tr>\n",
       "      <th>19</th>\n",
       "      <td>30</td>\n",
       "      <td>male</td>\n",
       "      <td>24.4</td>\n",
       "      <td>yes</td>\n",
       "      <td>18259.22</td>\n",
       "      <td>Yes</td>\n",
       "    </tr>\n",
       "    <tr>\n",
       "      <th>20</th>\n",
       "      <td>36</td>\n",
       "      <td>female</td>\n",
       "      <td>22.6</td>\n",
       "      <td>yes</td>\n",
       "      <td>18608.26</td>\n",
       "      <td>Yes</td>\n",
       "    </tr>\n",
       "    <tr>\n",
       "      <th>21</th>\n",
       "      <td>30</td>\n",
       "      <td>female</td>\n",
       "      <td>23.7</td>\n",
       "      <td>yes</td>\n",
       "      <td>18765.88</td>\n",
       "      <td>Yes</td>\n",
       "    </tr>\n",
       "    <tr>\n",
       "      <th>22</th>\n",
       "      <td>43</td>\n",
       "      <td>male</td>\n",
       "      <td>20.1</td>\n",
       "      <td>yes</td>\n",
       "      <td>18767.74</td>\n",
       "      <td>Yes</td>\n",
       "    </tr>\n",
       "    <tr>\n",
       "      <th>23</th>\n",
       "      <td>35</td>\n",
       "      <td>male</td>\n",
       "      <td>24.4</td>\n",
       "      <td>yes</td>\n",
       "      <td>19362.00</td>\n",
       "      <td>Yes</td>\n",
       "    </tr>\n",
       "    <tr>\n",
       "      <th>24</th>\n",
       "      <td>40</td>\n",
       "      <td>female</td>\n",
       "      <td>22.2</td>\n",
       "      <td>yes</td>\n",
       "      <td>19444.27</td>\n",
       "      <td>Yes</td>\n",
       "    </tr>\n",
       "    <tr>\n",
       "      <th>25</th>\n",
       "      <td>42</td>\n",
       "      <td>male</td>\n",
       "      <td>24.6</td>\n",
       "      <td>yes</td>\n",
       "      <td>19515.54</td>\n",
       "      <td>Yes</td>\n",
       "    </tr>\n",
       "    <tr>\n",
       "      <th>26</th>\n",
       "      <td>44</td>\n",
       "      <td>female</td>\n",
       "      <td>20.2</td>\n",
       "      <td>yes</td>\n",
       "      <td>19594.81</td>\n",
       "      <td>Yes</td>\n",
       "    </tr>\n",
       "    <tr>\n",
       "      <th>27</th>\n",
       "      <td>43</td>\n",
       "      <td>female</td>\n",
       "      <td>20.0</td>\n",
       "      <td>yes</td>\n",
       "      <td>19798.05</td>\n",
       "      <td>Yes</td>\n",
       "    </tr>\n",
       "    <tr>\n",
       "      <th>28</th>\n",
       "      <td>42</td>\n",
       "      <td>female</td>\n",
       "      <td>23.4</td>\n",
       "      <td>yes</td>\n",
       "      <td>19964.75</td>\n",
       "      <td>Yes</td>\n",
       "    </tr>\n",
       "    <tr>\n",
       "      <th>29</th>\n",
       "      <td>20</td>\n",
       "      <td>female</td>\n",
       "      <td>21.8</td>\n",
       "      <td>yes</td>\n",
       "      <td>20167.34</td>\n",
       "      <td>Yes</td>\n",
       "    </tr>\n",
       "    <tr>\n",
       "      <th>30</th>\n",
       "      <td>45</td>\n",
       "      <td>male</td>\n",
       "      <td>22.9</td>\n",
       "      <td>yes</td>\n",
       "      <td>21098.55</td>\n",
       "      <td>Yes</td>\n",
       "    </tr>\n",
       "    <tr>\n",
       "      <th>31</th>\n",
       "      <td>53</td>\n",
       "      <td>male</td>\n",
       "      <td>20.9</td>\n",
       "      <td>yes</td>\n",
       "      <td>21195.82</td>\n",
       "      <td>Yes</td>\n",
       "    </tr>\n",
       "    <tr>\n",
       "      <th>32</th>\n",
       "      <td>48</td>\n",
       "      <td>male</td>\n",
       "      <td>24.4</td>\n",
       "      <td>yes</td>\n",
       "      <td>21223.68</td>\n",
       "      <td>Yes</td>\n",
       "    </tr>\n",
       "    <tr>\n",
       "      <th>33</th>\n",
       "      <td>42</td>\n",
       "      <td>male</td>\n",
       "      <td>24.6</td>\n",
       "      <td>yes</td>\n",
       "      <td>21259.38</td>\n",
       "      <td>Yes</td>\n",
       "    </tr>\n",
       "    <tr>\n",
       "      <th>34</th>\n",
       "      <td>39</td>\n",
       "      <td>female</td>\n",
       "      <td>24.9</td>\n",
       "      <td>yes</td>\n",
       "      <td>21659.93</td>\n",
       "      <td>Yes</td>\n",
       "    </tr>\n",
       "    <tr>\n",
       "      <th>35</th>\n",
       "      <td>46</td>\n",
       "      <td>female</td>\n",
       "      <td>23.7</td>\n",
       "      <td>yes</td>\n",
       "      <td>21677.28</td>\n",
       "      <td>Yes</td>\n",
       "    </tr>\n",
       "    <tr>\n",
       "      <th>36</th>\n",
       "      <td>43</td>\n",
       "      <td>female</td>\n",
       "      <td>24.7</td>\n",
       "      <td>yes</td>\n",
       "      <td>21880.82</td>\n",
       "      <td>Yes</td>\n",
       "    </tr>\n",
       "    <tr>\n",
       "      <th>37</th>\n",
       "      <td>51</td>\n",
       "      <td>male</td>\n",
       "      <td>23.2</td>\n",
       "      <td>yes</td>\n",
       "      <td>22218.11</td>\n",
       "      <td>Yes</td>\n",
       "    </tr>\n",
       "    <tr>\n",
       "      <th>38</th>\n",
       "      <td>56</td>\n",
       "      <td>male</td>\n",
       "      <td>20.0</td>\n",
       "      <td>yes</td>\n",
       "      <td>22412.65</td>\n",
       "      <td>Yes</td>\n",
       "    </tr>\n",
       "    <tr>\n",
       "      <th>39</th>\n",
       "      <td>53</td>\n",
       "      <td>female</td>\n",
       "      <td>22.9</td>\n",
       "      <td>yes</td>\n",
       "      <td>23244.79</td>\n",
       "      <td>Yes</td>\n",
       "    </tr>\n",
       "    <tr>\n",
       "      <th>40</th>\n",
       "      <td>52</td>\n",
       "      <td>female</td>\n",
       "      <td>24.1</td>\n",
       "      <td>yes</td>\n",
       "      <td>23887.66</td>\n",
       "      <td>Yes</td>\n",
       "    </tr>\n",
       "    <tr>\n",
       "      <th>41</th>\n",
       "      <td>51</td>\n",
       "      <td>male</td>\n",
       "      <td>24.8</td>\n",
       "      <td>yes</td>\n",
       "      <td>23967.38</td>\n",
       "      <td>Yes</td>\n",
       "    </tr>\n",
       "    <tr>\n",
       "      <th>42</th>\n",
       "      <td>49</td>\n",
       "      <td>female</td>\n",
       "      <td>23.8</td>\n",
       "      <td>yes</td>\n",
       "      <td>24106.91</td>\n",
       "      <td>Yes</td>\n",
       "    </tr>\n",
       "    <tr>\n",
       "      <th>43</th>\n",
       "      <td>52</td>\n",
       "      <td>male</td>\n",
       "      <td>24.3</td>\n",
       "      <td>yes</td>\n",
       "      <td>24869.84</td>\n",
       "      <td>Yes</td>\n",
       "    </tr>\n",
       "    <tr>\n",
       "      <th>44</th>\n",
       "      <td>53</td>\n",
       "      <td>female</td>\n",
       "      <td>22.6</td>\n",
       "      <td>yes</td>\n",
       "      <td>24873.38</td>\n",
       "      <td>Yes</td>\n",
       "    </tr>\n",
       "    <tr>\n",
       "      <th>45</th>\n",
       "      <td>59</td>\n",
       "      <td>female</td>\n",
       "      <td>23.7</td>\n",
       "      <td>yes</td>\n",
       "      <td>25678.78</td>\n",
       "      <td>Yes</td>\n",
       "    </tr>\n",
       "    <tr>\n",
       "      <th>46</th>\n",
       "      <td>20</td>\n",
       "      <td>female</td>\n",
       "      <td>24.4</td>\n",
       "      <td>yes</td>\n",
       "      <td>26125.67</td>\n",
       "      <td>Yes</td>\n",
       "    </tr>\n",
       "    <tr>\n",
       "      <th>47</th>\n",
       "      <td>64</td>\n",
       "      <td>male</td>\n",
       "      <td>23.8</td>\n",
       "      <td>yes</td>\n",
       "      <td>26926.51</td>\n",
       "      <td>Yes</td>\n",
       "    </tr>\n",
       "    <tr>\n",
       "      <th>48</th>\n",
       "      <td>64</td>\n",
       "      <td>female</td>\n",
       "      <td>23.0</td>\n",
       "      <td>yes</td>\n",
       "      <td>27037.91</td>\n",
       "      <td>Yes</td>\n",
       "    </tr>\n",
       "    <tr>\n",
       "      <th>49</th>\n",
       "      <td>45</td>\n",
       "      <td>male</td>\n",
       "      <td>22.9</td>\n",
       "      <td>yes</td>\n",
       "      <td>35069.37</td>\n",
       "      <td>Yes</td>\n",
       "    </tr>\n",
       "  </tbody>\n",
       "</table>\n",
       "</div>"
      ],
      "text/plain": [
       "    age     sex   bmi smoker   charges Excess_charges\n",
       "0    18    male  21.6    yes  13747.87            Yes\n",
       "1    19  female  21.7    yes  13844.51            Yes\n",
       "2    18  female  21.7    yes  14283.46            Yes\n",
       "3    24  female  20.5    yes  14571.89            Yes\n",
       "4    20  female  22.4    yes  14711.74            Yes\n",
       "5    21  female  21.8    yes  15359.10            Yes\n",
       "6    25    male  24.1    yes  15817.99            Yes\n",
       "7    38    male  19.3    yes  15820.70            Yes\n",
       "8    29  female  21.8    yes  16115.30            Yes\n",
       "9    29    male  22.9    yes  16138.76            Yes\n",
       "10   27  female  20.0    yes  16420.49            Yes\n",
       "11   27  female  24.8    yes  16577.78            Yes\n",
       "12   29  female  21.8    yes  16657.72            Yes\n",
       "13   33  female  19.1    yes  16776.30            Yes\n",
       "14   40    male  19.8    yes  17179.52            Yes\n",
       "15   30    male  23.0    yes  17361.77            Yes\n",
       "16   32  female  24.6    yes  17496.31            Yes\n",
       "17   28    male  24.0    yes  17663.14            Yes\n",
       "18   33    male  24.8    yes  17904.53            Yes\n",
       "19   30    male  24.4    yes  18259.22            Yes\n",
       "20   36  female  22.6    yes  18608.26            Yes\n",
       "21   30  female  23.7    yes  18765.88            Yes\n",
       "22   43    male  20.1    yes  18767.74            Yes\n",
       "23   35    male  24.4    yes  19362.00            Yes\n",
       "24   40  female  22.2    yes  19444.27            Yes\n",
       "25   42    male  24.6    yes  19515.54            Yes\n",
       "26   44  female  20.2    yes  19594.81            Yes\n",
       "27   43  female  20.0    yes  19798.05            Yes\n",
       "28   42  female  23.4    yes  19964.75            Yes\n",
       "29   20  female  21.8    yes  20167.34            Yes\n",
       "30   45    male  22.9    yes  21098.55            Yes\n",
       "31   53    male  20.9    yes  21195.82            Yes\n",
       "32   48    male  24.4    yes  21223.68            Yes\n",
       "33   42    male  24.6    yes  21259.38            Yes\n",
       "34   39  female  24.9    yes  21659.93            Yes\n",
       "35   46  female  23.7    yes  21677.28            Yes\n",
       "36   43  female  24.7    yes  21880.82            Yes\n",
       "37   51    male  23.2    yes  22218.11            Yes\n",
       "38   56    male  20.0    yes  22412.65            Yes\n",
       "39   53  female  22.9    yes  23244.79            Yes\n",
       "40   52  female  24.1    yes  23887.66            Yes\n",
       "41   51    male  24.8    yes  23967.38            Yes\n",
       "42   49  female  23.8    yes  24106.91            Yes\n",
       "43   52    male  24.3    yes  24869.84            Yes\n",
       "44   53  female  22.6    yes  24873.38            Yes\n",
       "45   59  female  23.7    yes  25678.78            Yes\n",
       "46   20  female  24.4    yes  26125.67            Yes\n",
       "47   64    male  23.8    yes  26926.51            Yes\n",
       "48   64  female  23.0    yes  27037.91            Yes\n",
       "49   45    male  22.9    yes  35069.37            Yes"
      ]
     },
     "execution_count": 15,
     "metadata": {},
     "output_type": "execute_result"
    }
   ],
   "source": [
    "dfs=project_functions.smoker(url)\n",
    "dfs"
   ]
  },
  {
   "cell_type": "markdown",
   "id": "aware-meter",
   "metadata": {},
   "source": [
    "Data frame for smokers only"
   ]
  },
  {
   "cell_type": "code",
   "execution_count": 16,
   "id": "accomplished-packet",
   "metadata": {},
   "outputs": [
    {
     "data": {
      "text/html": [
       "<div>\n",
       "<style scoped>\n",
       "    .dataframe tbody tr th:only-of-type {\n",
       "        vertical-align: middle;\n",
       "    }\n",
       "\n",
       "    .dataframe tbody tr th {\n",
       "        vertical-align: top;\n",
       "    }\n",
       "\n",
       "    .dataframe thead th {\n",
       "        text-align: right;\n",
       "    }\n",
       "</style>\n",
       "<table border=\"1\" class=\"dataframe\">\n",
       "  <thead>\n",
       "    <tr style=\"text-align: right;\">\n",
       "      <th></th>\n",
       "      <th>age</th>\n",
       "      <th>sex</th>\n",
       "      <th>bmi</th>\n",
       "      <th>smoker</th>\n",
       "      <th>charges</th>\n",
       "      <th>Excess_charges</th>\n",
       "    </tr>\n",
       "  </thead>\n",
       "  <tbody>\n",
       "    <tr>\n",
       "      <th>0</th>\n",
       "      <td>18</td>\n",
       "      <td>male</td>\n",
       "      <td>30.1</td>\n",
       "      <td>no</td>\n",
       "      <td>1131.51</td>\n",
       "      <td>No</td>\n",
       "    </tr>\n",
       "    <tr>\n",
       "      <th>1</th>\n",
       "      <td>18</td>\n",
       "      <td>male</td>\n",
       "      <td>33.3</td>\n",
       "      <td>no</td>\n",
       "      <td>1135.94</td>\n",
       "      <td>No</td>\n",
       "    </tr>\n",
       "    <tr>\n",
       "      <th>2</th>\n",
       "      <td>18</td>\n",
       "      <td>male</td>\n",
       "      <td>33.7</td>\n",
       "      <td>no</td>\n",
       "      <td>1136.40</td>\n",
       "      <td>No</td>\n",
       "    </tr>\n",
       "    <tr>\n",
       "      <th>3</th>\n",
       "      <td>18</td>\n",
       "      <td>male</td>\n",
       "      <td>34.1</td>\n",
       "      <td>no</td>\n",
       "      <td>1137.01</td>\n",
       "      <td>No</td>\n",
       "    </tr>\n",
       "    <tr>\n",
       "      <th>4</th>\n",
       "      <td>18</td>\n",
       "      <td>male</td>\n",
       "      <td>34.4</td>\n",
       "      <td>no</td>\n",
       "      <td>1137.47</td>\n",
       "      <td>No</td>\n",
       "    </tr>\n",
       "    <tr>\n",
       "      <th>...</th>\n",
       "      <td>...</td>\n",
       "      <td>...</td>\n",
       "      <td>...</td>\n",
       "      <td>...</td>\n",
       "      <td>...</td>\n",
       "      <td>...</td>\n",
       "    </tr>\n",
       "    <tr>\n",
       "      <th>872</th>\n",
       "      <td>44</td>\n",
       "      <td>male</td>\n",
       "      <td>29.7</td>\n",
       "      <td>no</td>\n",
       "      <td>32108.66</td>\n",
       "      <td>Yes</td>\n",
       "    </tr>\n",
       "    <tr>\n",
       "      <th>873</th>\n",
       "      <td>52</td>\n",
       "      <td>female</td>\n",
       "      <td>37.5</td>\n",
       "      <td>no</td>\n",
       "      <td>33471.97</td>\n",
       "      <td>Yes</td>\n",
       "    </tr>\n",
       "    <tr>\n",
       "      <th>874</th>\n",
       "      <td>55</td>\n",
       "      <td>female</td>\n",
       "      <td>26.8</td>\n",
       "      <td>no</td>\n",
       "      <td>35160.13</td>\n",
       "      <td>Yes</td>\n",
       "    </tr>\n",
       "    <tr>\n",
       "      <th>875</th>\n",
       "      <td>61</td>\n",
       "      <td>female</td>\n",
       "      <td>33.3</td>\n",
       "      <td>no</td>\n",
       "      <td>36580.28</td>\n",
       "      <td>Yes</td>\n",
       "    </tr>\n",
       "    <tr>\n",
       "      <th>876</th>\n",
       "      <td>59</td>\n",
       "      <td>female</td>\n",
       "      <td>34.8</td>\n",
       "      <td>no</td>\n",
       "      <td>36910.61</td>\n",
       "      <td>Yes</td>\n",
       "    </tr>\n",
       "  </tbody>\n",
       "</table>\n",
       "<p>877 rows × 6 columns</p>\n",
       "</div>"
      ],
      "text/plain": [
       "     age     sex   bmi smoker   charges Excess_charges\n",
       "0     18    male  30.1     no   1131.51             No\n",
       "1     18    male  33.3     no   1135.94             No\n",
       "2     18    male  33.7     no   1136.40             No\n",
       "3     18    male  34.1     no   1137.01             No\n",
       "4     18    male  34.4     no   1137.47             No\n",
       "..   ...     ...   ...    ...       ...            ...\n",
       "872   44    male  29.7     no  32108.66            Yes\n",
       "873   52  female  37.5     no  33471.97            Yes\n",
       "874   55  female  26.8     no  35160.13            Yes\n",
       "875   61  female  33.3     no  36580.28            Yes\n",
       "876   59  female  34.8     no  36910.61            Yes\n",
       "\n",
       "[877 rows x 6 columns]"
      ]
     },
     "execution_count": 16,
     "metadata": {},
     "output_type": "execute_result"
    }
   ],
   "source": [
    "dfob=project_functions.overBmi(url)\n",
    "dfob"
   ]
  },
  {
   "cell_type": "markdown",
   "id": "breeding-quilt",
   "metadata": {},
   "source": [
    "Data frame for over average bmi"
   ]
  },
  {
   "cell_type": "code",
   "execution_count": 17,
   "id": "necessary-birmingham",
   "metadata": {},
   "outputs": [
    {
     "data": {
      "text/html": [
       "<div>\n",
       "<style scoped>\n",
       "    .dataframe tbody tr th:only-of-type {\n",
       "        vertical-align: middle;\n",
       "    }\n",
       "\n",
       "    .dataframe tbody tr th {\n",
       "        vertical-align: top;\n",
       "    }\n",
       "\n",
       "    .dataframe thead th {\n",
       "        text-align: right;\n",
       "    }\n",
       "</style>\n",
       "<table border=\"1\" class=\"dataframe\">\n",
       "  <thead>\n",
       "    <tr style=\"text-align: right;\">\n",
       "      <th></th>\n",
       "      <th>age</th>\n",
       "      <th>sex</th>\n",
       "      <th>bmi</th>\n",
       "      <th>smoker</th>\n",
       "      <th>charges</th>\n",
       "      <th>Excess_charges</th>\n",
       "    </tr>\n",
       "  </thead>\n",
       "  <tbody>\n",
       "    <tr>\n",
       "      <th>0</th>\n",
       "      <td>19</td>\n",
       "      <td>male</td>\n",
       "      <td>17.5</td>\n",
       "      <td>no</td>\n",
       "      <td>1621.34</td>\n",
       "      <td>No</td>\n",
       "    </tr>\n",
       "    <tr>\n",
       "      <th>1</th>\n",
       "      <td>18</td>\n",
       "      <td>male</td>\n",
       "      <td>16.0</td>\n",
       "      <td>no</td>\n",
       "      <td>1694.80</td>\n",
       "      <td>No</td>\n",
       "    </tr>\n",
       "    <tr>\n",
       "      <th>2</th>\n",
       "      <td>19</td>\n",
       "      <td>female</td>\n",
       "      <td>17.8</td>\n",
       "      <td>no</td>\n",
       "      <td>1727.78</td>\n",
       "      <td>No</td>\n",
       "    </tr>\n",
       "    <tr>\n",
       "      <th>3</th>\n",
       "      <td>21</td>\n",
       "      <td>female</td>\n",
       "      <td>17.4</td>\n",
       "      <td>no</td>\n",
       "      <td>2585.27</td>\n",
       "      <td>No</td>\n",
       "    </tr>\n",
       "    <tr>\n",
       "      <th>4</th>\n",
       "      <td>26</td>\n",
       "      <td>male</td>\n",
       "      <td>17.7</td>\n",
       "      <td>no</td>\n",
       "      <td>2680.95</td>\n",
       "      <td>No</td>\n",
       "    </tr>\n",
       "    <tr>\n",
       "      <th>5</th>\n",
       "      <td>23</td>\n",
       "      <td>male</td>\n",
       "      <td>17.4</td>\n",
       "      <td>no</td>\n",
       "      <td>2775.19</td>\n",
       "      <td>No</td>\n",
       "    </tr>\n",
       "    <tr>\n",
       "      <th>6</th>\n",
       "      <td>21</td>\n",
       "      <td>female</td>\n",
       "      <td>16.8</td>\n",
       "      <td>no</td>\n",
       "      <td>3167.46</td>\n",
       "      <td>No</td>\n",
       "    </tr>\n",
       "    <tr>\n",
       "      <th>7</th>\n",
       "      <td>28</td>\n",
       "      <td>female</td>\n",
       "      <td>17.3</td>\n",
       "      <td>no</td>\n",
       "      <td>3732.63</td>\n",
       "      <td>No</td>\n",
       "    </tr>\n",
       "    <tr>\n",
       "      <th>8</th>\n",
       "      <td>35</td>\n",
       "      <td>male</td>\n",
       "      <td>17.9</td>\n",
       "      <td>no</td>\n",
       "      <td>5116.50</td>\n",
       "      <td>No</td>\n",
       "    </tr>\n",
       "    <tr>\n",
       "      <th>9</th>\n",
       "      <td>38</td>\n",
       "      <td>male</td>\n",
       "      <td>16.8</td>\n",
       "      <td>no</td>\n",
       "      <td>6640.54</td>\n",
       "      <td>No</td>\n",
       "    </tr>\n",
       "    <tr>\n",
       "      <th>10</th>\n",
       "      <td>37</td>\n",
       "      <td>female</td>\n",
       "      <td>17.3</td>\n",
       "      <td>no</td>\n",
       "      <td>6877.98</td>\n",
       "      <td>No</td>\n",
       "    </tr>\n",
       "    <tr>\n",
       "      <th>11</th>\n",
       "      <td>51</td>\n",
       "      <td>female</td>\n",
       "      <td>18.0</td>\n",
       "      <td>no</td>\n",
       "      <td>9644.25</td>\n",
       "      <td>No</td>\n",
       "    </tr>\n",
       "    <tr>\n",
       "      <th>12</th>\n",
       "      <td>52</td>\n",
       "      <td>female</td>\n",
       "      <td>18.3</td>\n",
       "      <td>no</td>\n",
       "      <td>9991.04</td>\n",
       "      <td>No</td>\n",
       "    </tr>\n",
       "    <tr>\n",
       "      <th>13</th>\n",
       "      <td>57</td>\n",
       "      <td>male</td>\n",
       "      <td>18.3</td>\n",
       "      <td>no</td>\n",
       "      <td>11534.87</td>\n",
       "      <td>No</td>\n",
       "    </tr>\n",
       "    <tr>\n",
       "      <th>14</th>\n",
       "      <td>60</td>\n",
       "      <td>female</td>\n",
       "      <td>18.3</td>\n",
       "      <td>no</td>\n",
       "      <td>13204.29</td>\n",
       "      <td>No</td>\n",
       "    </tr>\n",
       "  </tbody>\n",
       "</table>\n",
       "</div>"
      ],
      "text/plain": [
       "    age     sex   bmi smoker   charges Excess_charges\n",
       "0    19    male  17.5     no   1621.34             No\n",
       "1    18    male  16.0     no   1694.80             No\n",
       "2    19  female  17.8     no   1727.78             No\n",
       "3    21  female  17.4     no   2585.27             No\n",
       "4    26    male  17.7     no   2680.95             No\n",
       "5    23    male  17.4     no   2775.19             No\n",
       "6    21  female  16.8     no   3167.46             No\n",
       "7    28  female  17.3     no   3732.63             No\n",
       "8    35    male  17.9     no   5116.50             No\n",
       "9    38    male  16.8     no   6640.54             No\n",
       "10   37  female  17.3     no   6877.98             No\n",
       "11   51  female  18.0     no   9644.25             No\n",
       "12   52  female  18.3     no   9991.04             No\n",
       "13   57    male  18.3     no  11534.87             No\n",
       "14   60  female  18.3     no  13204.29             No"
      ]
     },
     "execution_count": 17,
     "metadata": {},
     "output_type": "execute_result"
    }
   ],
   "source": [
    "dfub=project_functions.underBmi(url)\n",
    "dfub"
   ]
  },
  {
   "cell_type": "markdown",
   "id": "frozen-structure",
   "metadata": {},
   "source": [
    "Dataframe for under average bmi"
   ]
  },
  {
   "cell_type": "markdown",
   "id": "educated-broadway",
   "metadata": {},
   "source": [
    "**Regression Plots**\n",
    "---"
   ]
  },
  {
   "cell_type": "code",
   "execution_count": 18,
   "id": "bronze-translation",
   "metadata": {},
   "outputs": [
    {
     "data": {
      "text/plain": [
       "<seaborn.axisgrid.FacetGrid at 0x22fdbf16e50>"
      ]
     },
     "execution_count": 18,
     "metadata": {},
     "output_type": "execute_result"
    },
    {
     "data": {
      "image/png": "[encoded data removed]",
      "text/plain": [
       "<Figure size 360x360 with 1 Axes>"
      ]
     },
     "metadata": {},
     "output_type": "display_data"
    }
   ],
   "source": [
    "project_functions.plotAvC(dfs)"
   ]
  },
  {
   "cell_type": "markdown",
   "id": "informal-desire",
   "metadata": {},
   "source": [
    "Regression plot for smokers only\n",
    "\n",
    "We see here that the smokers at the least pay around 14,000 this is larger than the average charge for all patients, this suggests that the leading factor in large charges is smoking"
   ]
  },
  {
   "cell_type": "code",
   "execution_count": 19,
   "id": "collective-visibility",
   "metadata": {},
   "outputs": [
    {
     "data": {
      "text/plain": [
       "<seaborn.axisgrid.FacetGrid at 0x22fdbe7d8b0>"
      ]
     },
     "execution_count": 19,
     "metadata": {},
     "output_type": "execute_result"
    },
    {
     "data": {
      "image/png": "[encoded data removed]",
      "text/plain": [
       "<Figure size 360x360 with 1 Axes>"
      ]
     },
     "metadata": {},
     "output_type": "display_data"
    }
   ],
   "source": [
    "project_functions.plotAvC(dfob)"
   ]
  },
  {
   "cell_type": "markdown",
   "id": "functional-wilson",
   "metadata": {},
   "source": [
    "Regression plot for over weight people\n",
    "\n",
    "Here is where we see the majority of our population and this looks very similar to the regression plot of healthy individuals with a similar frequency of outliers above the regression line to the healthy case this points towards elimination of over average bmi from being a leading factor in above average charges."
   ]
  },
  {
   "cell_type": "code",
   "execution_count": 20,
   "id": "relevant-biology",
   "metadata": {},
   "outputs": [
    {
     "data": {
      "text/plain": [
       "<seaborn.axisgrid.FacetGrid at 0x22fdbf82a00>"
      ]
     },
     "execution_count": 20,
     "metadata": {},
     "output_type": "execute_result"
    },
    {
     "data": {
      "image/png": "[encoded data removed]",
      "text/plain": [
       "<Figure size 360x360 with 1 Axes>"
      ]
     },
     "metadata": {},
     "output_type": "display_data"
    }
   ],
   "source": [
    "project_functions.plotAvC(dfub)"
   ]
  },
  {
   "cell_type": "markdown",
   "id": "whole-hierarchy",
   "metadata": {},
   "source": [
    "Regression plot for underweight people only\n",
    "\n",
    "This regression plot actually shows a under average bmi leads towards a much lower charge per age as the lowest charge is around 2000 whilst the maxium is only around 13,000, however this is a very small population compared to the other cases of only 14 so we cannot say this is for certain but thsi evidence combined with the over average bmi helps eliminate bmi being a leading cause in excess medical charges"
   ]
  },
  {
   "cell_type": "markdown",
   "id": "religious-clause",
   "metadata": {},
   "source": [
    "These regression plots mostly show that the smokers have a large variety in the charges at each age and that bmi actually does not have too much of effect on the charges at each age and that a lower bmi actually looks like it causes a lower charge at each age group."
   ]
  },
  {
   "cell_type": "markdown",
   "id": "perceived-thumbnail",
   "metadata": {},
   "source": [
    "**Bar Plots**\n",
    "---"
   ]
  },
  {
   "cell_type": "markdown",
   "id": "compliant-rolling",
   "metadata": {},
   "source": [
    "---"
   ]
  },
  {
   "cell_type": "code",
   "execution_count": 21,
   "id": "fluid-barcelona",
   "metadata": {},
   "outputs": [
    {
     "data": {
      "text/plain": [
       "<AxesSubplot:xlabel='Excess_charges', ylabel='Density'>"
      ]
     },
     "execution_count": 21,
     "metadata": {},
     "output_type": "execute_result"
    },
    {
     "data": {
      "image/png": "[encoded data removed]",
      "text/plain": [
       "<Figure size 432x288 with 1 Axes>"
      ]
     },
     "metadata": {},
     "output_type": "display_data"
    }
   ],
   "source": [
    "project_functions.BrPltECD(dfs)"
   ]
  },
  {
   "cell_type": "markdown",
   "id": "quiet-request",
   "metadata": {},
   "source": [
    "Bar plot for smokers only\n",
    "\n",
    "This further shows that smoking is a leading factor in excess medical charges as from a respectiable sample size we've shown that everyone who smokes will have excess charges."
   ]
  },
  {
   "cell_type": "code",
   "execution_count": 22,
   "id": "annoying-effect",
   "metadata": {},
   "outputs": [
    {
     "data": {
      "text/plain": [
       "<AxesSubplot:xlabel='Excess_charges', ylabel='Density'>"
      ]
     },
     "execution_count": 22,
     "metadata": {},
     "output_type": "execute_result"
    },
    {
     "data": {
      "image/png": "[encoded data removed]",
      "text/plain": [
       "<Figure size 432x288 with 1 Axes>"
      ]
     },
     "metadata": {},
     "output_type": "display_data"
    }
   ],
   "source": [
    "project_functions.BrPltECD(dfob)"
   ]
  },
  {
   "cell_type": "markdown",
   "id": "powerful-moore",
   "metadata": {},
   "source": [
    "Bar plot for over weight people only\n",
    "\n",
    "Here we see that over weight people are more likely to have excess charges as compared to healthy people as they appear to be charged excess charges around 0.15 where as healthy people around around 0.1. This shows that having a over average bmi leads towards a higher chance of being charged more than average costs this is further backed up as this population was quite large so it can be used to draw a better conclusion, there was some outliers but we can compare those with bar plots later."
   ]
  },
  {
   "cell_type": "code",
   "execution_count": 23,
   "id": "square-security",
   "metadata": {},
   "outputs": [
    {
     "data": {
      "text/plain": [
       "<AxesSubplot:xlabel='Excess_charges', ylabel='Density'>"
      ]
     },
     "execution_count": 23,
     "metadata": {},
     "output_type": "execute_result"
    },
    {
     "data": {
      "image/png": "[encoded data removed]",
      "text/plain": [
       "<Figure size 432x288 with 1 Axes>"
      ]
     },
     "metadata": {},
     "output_type": "display_data"
    }
   ],
   "source": [
    "project_functions.BrPltECD(dfub)"
   ]
  },
  {
   "cell_type": "markdown",
   "id": "divided-payday",
   "metadata": {},
   "source": [
    "Bar plot for under weight people only\n",
    "\n",
    "Here we see something interesting in that under weight people only get charged under the average charges. This is interesting but could be down to the small sample size of this population because of this i wont draw a conclusion that a lower bmi leads to lower medical fees but it can be used to rule it out in a leading factor for higher fees."
   ]
  },
  {
   "cell_type": "markdown",
   "id": "variable-apparatus",
   "metadata": {},
   "source": [
    "**Box Plots**\n",
    "---"
   ]
  },
  {
   "cell_type": "markdown",
   "id": "single-turner",
   "metadata": {},
   "source": [
    "---"
   ]
  },
  {
   "cell_type": "code",
   "execution_count": 24,
   "id": "aggregate-trade",
   "metadata": {},
   "outputs": [
    {
     "data": {
      "text/plain": [
       "<AxesSubplot:xlabel='Over_BMI', ylabel='charges'>"
      ]
     },
     "execution_count": 24,
     "metadata": {},
     "output_type": "execute_result"
    },
    {
     "data": {
      "image/png": "[encoded data removed]",
      "text/plain": [
       "<Figure size 432x288 with 1 Axes>"
      ]
     },
     "metadata": {},
     "output_type": "display_data"
    }
   ],
   "source": [
    "project_functions.BoxPltob(df)"
   ]
  },
  {
   "cell_type": "markdown",
   "id": "injured-question",
   "metadata": {},
   "source": [
    "Box plot of not over weight vs over weight\n",
    "\n",
    "Here we can see the over bmi population has a similar spread copared to healthy bmi but the over bmi is shifted upwards by a slight amount, we also see the over bmi has more outliers but this is expected due to a larger population size. This larger population size for over bmi could be due to the increasing obesity crisis in America thus more people are likely to be overweight as this is more normal this could be the reason that the frequency wasnt much higher for this group as its more likely to shift the mean of the dataset. So the higher frequency of excess charges and the more outliers in this case point towards the over bmi population having a larger medical charge on average as the outliers skew the mean thus it isnt a true representation of the mean which would need more investitgation."
   ]
  },
  {
   "cell_type": "code",
   "execution_count": 25,
   "id": "russian-eleven",
   "metadata": {},
   "outputs": [
    {
     "data": {
      "text/plain": [
       "<AxesSubplot:xlabel='Under_BMI', ylabel='charges'>"
      ]
     },
     "execution_count": 25,
     "metadata": {},
     "output_type": "execute_result"
    },
    {
     "data": {
      "image/png": "[encoded data removed]",
      "text/plain": [
       "<Figure size 432x288 with 1 Axes>"
      ]
     },
     "metadata": {},
     "output_type": "display_data"
    }
   ],
   "source": [
    "project_functions.BoxPltub(df)"
   ]
  },
  {
   "cell_type": "markdown",
   "id": "fifth-storm",
   "metadata": {},
   "source": [
    "Box plot of not under weight vs under weight\n",
    "\n",
    "Again we see that the average costs for under bmi is lower and the spread of the data seemes to be the same as the healthy case, there are no outliers in this under bmi population so the mean is more representative of the population."
   ]
  },
  {
   "cell_type": "code",
   "execution_count": 26,
   "id": "canadian-course",
   "metadata": {},
   "outputs": [
    {
     "data": {
      "text/plain": [
       "<AxesSubplot:xlabel='smoker', ylabel='charges'>"
      ]
     },
     "execution_count": 26,
     "metadata": {},
     "output_type": "execute_result"
    },
    {
     "data": {
      "image/png": "[encoded data removed]",
      "text/plain": [
       "<Figure size 432x288 with 1 Axes>"
      ]
     },
     "metadata": {},
     "output_type": "display_data"
    }
   ],
   "source": [
    "project_functions.BoxPlts(df)"
   ]
  },
  {
   "cell_type": "markdown",
   "id": "dietary-faith",
   "metadata": {},
   "source": [
    "Box plot of non smokers vs smokers\n",
    "\n",
    "The smoker population spread is clearly much larger and higher than the healthy population, we also see no outliers in this case so this spread is a good representation of the whole smoker population. It's obvious looking at this and the previous examples that smoking is the dominate factor in higher medical fees"
   ]
  },
  {
   "cell_type": "markdown",
   "id": "prerequisite-aside",
   "metadata": {},
   "source": [
    "From the previous plots we saw that bmi doesnt have too much of an influence in charges, and in fact a lower bmi looked to cause lower fees but the population was too small to draw concrete conclusions from, but in the over bmi case we could look at the higher bmi which would be closer to the obese cases and would look at more extreme cases from the average population. From this we also saw that smoking was the dominant factor for the higher fees which we will investigate some more."
   ]
  },
  {
   "cell_type": "markdown",
   "id": "possible-steel",
   "metadata": {},
   "source": [
    "**Smokers**\n",
    "---"
   ]
  },
  {
   "cell_type": "markdown",
   "id": "pleasant-window",
   "metadata": {},
   "source": [
    "---"
   ]
  },
  {
   "cell_type": "markdown",
   "id": "radio-gamma",
   "metadata": {},
   "source": [
    "We saw from the previous analysis that isolating only idividuals who only smoked showed a trend of excessive medical charges now I want to look at how people who smoke and have different bmi differ with their medical charges"
   ]
  },
  {
   "cell_type": "code",
   "execution_count": 27,
   "id": "overall-mexican",
   "metadata": {},
   "outputs": [
    {
     "data": {
      "text/html": [
       "<div>\n",
       "<style scoped>\n",
       "    .dataframe tbody tr th:only-of-type {\n",
       "        vertical-align: middle;\n",
       "    }\n",
       "\n",
       "    .dataframe tbody tr th {\n",
       "        vertical-align: top;\n",
       "    }\n",
       "\n",
       "    .dataframe thead th {\n",
       "        text-align: right;\n",
       "    }\n",
       "</style>\n",
       "<table border=\"1\" class=\"dataframe\">\n",
       "  <thead>\n",
       "    <tr style=\"text-align: right;\">\n",
       "      <th></th>\n",
       "      <th>age</th>\n",
       "      <th>sex</th>\n",
       "      <th>bmi</th>\n",
       "      <th>smoker</th>\n",
       "      <th>charges</th>\n",
       "      <th>Excess_charges</th>\n",
       "    </tr>\n",
       "  </thead>\n",
       "  <tbody>\n",
       "    <tr>\n",
       "      <th>0</th>\n",
       "      <td>18</td>\n",
       "      <td>male</td>\n",
       "      <td>17.3</td>\n",
       "      <td>yes</td>\n",
       "      <td>12829.46</td>\n",
       "      <td>No</td>\n",
       "    </tr>\n",
       "    <tr>\n",
       "      <th>1</th>\n",
       "      <td>18</td>\n",
       "      <td>male</td>\n",
       "      <td>21.6</td>\n",
       "      <td>yes</td>\n",
       "      <td>13747.87</td>\n",
       "      <td>Yes</td>\n",
       "    </tr>\n",
       "    <tr>\n",
       "      <th>2</th>\n",
       "      <td>19</td>\n",
       "      <td>female</td>\n",
       "      <td>21.7</td>\n",
       "      <td>yes</td>\n",
       "      <td>13844.51</td>\n",
       "      <td>Yes</td>\n",
       "    </tr>\n",
       "    <tr>\n",
       "      <th>3</th>\n",
       "      <td>18</td>\n",
       "      <td>female</td>\n",
       "      <td>21.7</td>\n",
       "      <td>yes</td>\n",
       "      <td>14283.46</td>\n",
       "      <td>Yes</td>\n",
       "    </tr>\n",
       "    <tr>\n",
       "      <th>4</th>\n",
       "      <td>26</td>\n",
       "      <td>female</td>\n",
       "      <td>17.2</td>\n",
       "      <td>yes</td>\n",
       "      <td>14455.64</td>\n",
       "      <td>Yes</td>\n",
       "    </tr>\n",
       "    <tr>\n",
       "      <th>...</th>\n",
       "      <td>...</td>\n",
       "      <td>...</td>\n",
       "      <td>...</td>\n",
       "      <td>...</td>\n",
       "      <td>...</td>\n",
       "      <td>...</td>\n",
       "    </tr>\n",
       "    <tr>\n",
       "      <th>269</th>\n",
       "      <td>33</td>\n",
       "      <td>female</td>\n",
       "      <td>35.5</td>\n",
       "      <td>yes</td>\n",
       "      <td>55135.40</td>\n",
       "      <td>Yes</td>\n",
       "    </tr>\n",
       "    <tr>\n",
       "      <th>270</th>\n",
       "      <td>31</td>\n",
       "      <td>female</td>\n",
       "      <td>38.1</td>\n",
       "      <td>yes</td>\n",
       "      <td>58571.07</td>\n",
       "      <td>Yes</td>\n",
       "    </tr>\n",
       "    <tr>\n",
       "      <th>271</th>\n",
       "      <td>52</td>\n",
       "      <td>male</td>\n",
       "      <td>34.5</td>\n",
       "      <td>yes</td>\n",
       "      <td>60021.40</td>\n",
       "      <td>Yes</td>\n",
       "    </tr>\n",
       "    <tr>\n",
       "      <th>272</th>\n",
       "      <td>45</td>\n",
       "      <td>male</td>\n",
       "      <td>30.4</td>\n",
       "      <td>yes</td>\n",
       "      <td>62592.87</td>\n",
       "      <td>Yes</td>\n",
       "    </tr>\n",
       "    <tr>\n",
       "      <th>273</th>\n",
       "      <td>54</td>\n",
       "      <td>female</td>\n",
       "      <td>47.4</td>\n",
       "      <td>yes</td>\n",
       "      <td>63770.43</td>\n",
       "      <td>Yes</td>\n",
       "    </tr>\n",
       "  </tbody>\n",
       "</table>\n",
       "<p>274 rows × 6 columns</p>\n",
       "</div>"
      ],
      "text/plain": [
       "     age     sex   bmi smoker   charges Excess_charges\n",
       "0     18    male  17.3    yes  12829.46             No\n",
       "1     18    male  21.6    yes  13747.87            Yes\n",
       "2     19  female  21.7    yes  13844.51            Yes\n",
       "3     18  female  21.7    yes  14283.46            Yes\n",
       "4     26  female  17.2    yes  14455.64            Yes\n",
       "..   ...     ...   ...    ...       ...            ...\n",
       "269   33  female  35.5    yes  55135.40            Yes\n",
       "270   31  female  38.1    yes  58571.07            Yes\n",
       "271   52    male  34.5    yes  60021.40            Yes\n",
       "272   45    male  30.4    yes  62592.87            Yes\n",
       "273   54  female  47.4    yes  63770.43            Yes\n",
       "\n",
       "[274 rows x 6 columns]"
      ]
     },
     "execution_count": 27,
     "metadata": {},
     "output_type": "execute_result"
    }
   ],
   "source": [
    "dfas=project_functions.allsmoker(url)\n",
    "dfas"
   ]
  },
  {
   "cell_type": "markdown",
   "id": "unusual-horror",
   "metadata": {},
   "source": [
    "**Regression Plots**\n",
    "---"
   ]
  },
  {
   "cell_type": "markdown",
   "id": "grateful-intro",
   "metadata": {},
   "source": [
    "---"
   ]
  },
  {
   "cell_type": "code",
   "execution_count": 28,
   "id": "stuck-passing",
   "metadata": {},
   "outputs": [
    {
     "data": {
      "text/plain": [
       "<seaborn.axisgrid.FacetGrid at 0x22fdd1adb80>"
      ]
     },
     "execution_count": 28,
     "metadata": {},
     "output_type": "execute_result"
    },
    {
     "data": {
      "image/png": "[encoded data removed]",
      "text/plain": [
       "<Figure size 360x360 with 1 Axes>"
      ]
     },
     "metadata": {},
     "output_type": "display_data"
    }
   ],
   "source": [
    "project_functions.plotAvC(dfas)"
   ]
  },
  {
   "cell_type": "markdown",
   "id": "plain-impact",
   "metadata": {},
   "source": [
    "**Bar Plots**\n",
    "---"
   ]
  },
  {
   "cell_type": "markdown",
   "id": "eastern-suspension",
   "metadata": {},
   "source": [
    "---"
   ]
  },
  {
   "cell_type": "code",
   "execution_count": 29,
   "id": "synthetic-airplane",
   "metadata": {},
   "outputs": [
    {
     "data": {
      "text/plain": [
       "<AxesSubplot:xlabel='Excess_charges', ylabel='Density'>"
      ]
     },
     "execution_count": 29,
     "metadata": {},
     "output_type": "execute_result"
    },
    {
     "data": {
      "image/png": "[encoded data removed]",
      "text/plain": [
       "<Figure size 432x288 with 1 Axes>"
      ]
     },
     "metadata": {},
     "output_type": "display_data"
    }
   ],
   "source": [
    "project_functions.BrPltECD(dfas)"
   ]
  },
  {
   "cell_type": "markdown",
   "id": "suspended-swimming",
   "metadata": {},
   "source": [
    "**Box Plot**\n",
    "---"
   ]
  },
  {
   "cell_type": "code",
   "execution_count": 30,
   "id": "forbidden-substance",
   "metadata": {},
   "outputs": [
    {
     "data": {
      "text/plain": [
       "<AxesSubplot:xlabel='smoker', ylabel='charges'>"
      ]
     },
     "execution_count": 30,
     "metadata": {},
     "output_type": "execute_result"
    },
    {
     "data": {
      "image/png": "[encoded data removed]",
      "text/plain": [
       "<Figure size 432x288 with 1 Axes>"
      ]
     },
     "metadata": {},
     "output_type": "display_data"
    }
   ],
   "source": [
    "project_functions.BoxPlts(dfas)"
   ]
  },
  {
   "cell_type": "markdown",
   "id": "raised-michigan",
   "metadata": {},
   "source": [
    "Looking at these  plots its clear to see that even when we extend the smokers case to all the people that do smoke that excess charges is always common between the population. Now we have a larger population we can draw a more concrete conclusion, the regression plot shows us that most of the above average charges are associated with smokers this is further backed up by the bar plot which shows almost all of the population of smokers have above average charges, the final nail for the argument that smoking is the leading factor in higher than average charges is the box plot which shows no outliers and the smallest fee being only just below the excessive charges threshold."
   ]
  },
  {
   "cell_type": "markdown",
   "id": "overall-marketing",
   "metadata": {},
   "source": [
    "**Obese**\n",
    "---"
   ]
  },
  {
   "cell_type": "markdown",
   "id": "correct-logging",
   "metadata": {},
   "source": [
    "---"
   ]
  },
  {
   "cell_type": "markdown",
   "id": "structured-specialist",
   "metadata": {},
   "source": [
    "Now i want to look at how extreme obeseity effects the charges, this is classified as a value of 40 or higher"
   ]
  },
  {
   "cell_type": "code",
   "execution_count": 31,
   "id": "right-academy",
   "metadata": {},
   "outputs": [
    {
     "data": {
      "text/html": [
       "<div>\n",
       "<style scoped>\n",
       "    .dataframe tbody tr th:only-of-type {\n",
       "        vertical-align: middle;\n",
       "    }\n",
       "\n",
       "    .dataframe tbody tr th {\n",
       "        vertical-align: top;\n",
       "    }\n",
       "\n",
       "    .dataframe thead th {\n",
       "        text-align: right;\n",
       "    }\n",
       "</style>\n",
       "<table border=\"1\" class=\"dataframe\">\n",
       "  <thead>\n",
       "    <tr style=\"text-align: right;\">\n",
       "      <th></th>\n",
       "      <th>age</th>\n",
       "      <th>sex</th>\n",
       "      <th>bmi</th>\n",
       "      <th>smoker</th>\n",
       "      <th>charges</th>\n",
       "      <th>Excess_charges</th>\n",
       "      <th>Over_BMI</th>\n",
       "    </tr>\n",
       "  </thead>\n",
       "  <tbody>\n",
       "    <tr>\n",
       "      <th>0</th>\n",
       "      <td>18</td>\n",
       "      <td>male</td>\n",
       "      <td>41.1</td>\n",
       "      <td>no</td>\n",
       "      <td>1146.80</td>\n",
       "      <td>No</td>\n",
       "      <td>Yes</td>\n",
       "    </tr>\n",
       "    <tr>\n",
       "      <th>1</th>\n",
       "      <td>18</td>\n",
       "      <td>male</td>\n",
       "      <td>43.0</td>\n",
       "      <td>no</td>\n",
       "      <td>1149.40</td>\n",
       "      <td>No</td>\n",
       "      <td>Yes</td>\n",
       "    </tr>\n",
       "    <tr>\n",
       "      <th>2</th>\n",
       "      <td>18</td>\n",
       "      <td>male</td>\n",
       "      <td>53.1</td>\n",
       "      <td>no</td>\n",
       "      <td>1163.46</td>\n",
       "      <td>No</td>\n",
       "      <td>Yes</td>\n",
       "    </tr>\n",
       "    <tr>\n",
       "      <th>3</th>\n",
       "      <td>18</td>\n",
       "      <td>female</td>\n",
       "      <td>40.3</td>\n",
       "      <td>no</td>\n",
       "      <td>1634.57</td>\n",
       "      <td>No</td>\n",
       "      <td>Yes</td>\n",
       "    </tr>\n",
       "    <tr>\n",
       "      <th>4</th>\n",
       "      <td>19</td>\n",
       "      <td>female</td>\n",
       "      <td>40.5</td>\n",
       "      <td>no</td>\n",
       "      <td>1759.34</td>\n",
       "      <td>No</td>\n",
       "      <td>Yes</td>\n",
       "    </tr>\n",
       "    <tr>\n",
       "      <th>...</th>\n",
       "      <td>...</td>\n",
       "      <td>...</td>\n",
       "      <td>...</td>\n",
       "      <td>...</td>\n",
       "      <td>...</td>\n",
       "      <td>...</td>\n",
       "      <td>...</td>\n",
       "    </tr>\n",
       "    <tr>\n",
       "      <th>65</th>\n",
       "      <td>63</td>\n",
       "      <td>male</td>\n",
       "      <td>41.3</td>\n",
       "      <td>no</td>\n",
       "      <td>15555.19</td>\n",
       "      <td>Yes</td>\n",
       "      <td>Yes</td>\n",
       "    </tr>\n",
       "    <tr>\n",
       "      <th>66</th>\n",
       "      <td>25</td>\n",
       "      <td>female</td>\n",
       "      <td>41.3</td>\n",
       "      <td>no</td>\n",
       "      <td>17878.90</td>\n",
       "      <td>Yes</td>\n",
       "      <td>Yes</td>\n",
       "    </tr>\n",
       "    <tr>\n",
       "      <th>67</th>\n",
       "      <td>57</td>\n",
       "      <td>male</td>\n",
       "      <td>40.3</td>\n",
       "      <td>no</td>\n",
       "      <td>20709.02</td>\n",
       "      <td>Yes</td>\n",
       "      <td>Yes</td>\n",
       "    </tr>\n",
       "    <tr>\n",
       "      <th>68</th>\n",
       "      <td>58</td>\n",
       "      <td>female</td>\n",
       "      <td>41.9</td>\n",
       "      <td>no</td>\n",
       "      <td>24227.34</td>\n",
       "      <td>Yes</td>\n",
       "      <td>Yes</td>\n",
       "    </tr>\n",
       "    <tr>\n",
       "      <th>69</th>\n",
       "      <td>40</td>\n",
       "      <td>female</td>\n",
       "      <td>41.4</td>\n",
       "      <td>no</td>\n",
       "      <td>28476.73</td>\n",
       "      <td>Yes</td>\n",
       "      <td>Yes</td>\n",
       "    </tr>\n",
       "  </tbody>\n",
       "</table>\n",
       "<p>70 rows × 7 columns</p>\n",
       "</div>"
      ],
      "text/plain": [
       "    age     sex   bmi smoker   charges Excess_charges Over_BMI\n",
       "0    18    male  41.1     no   1146.80             No      Yes\n",
       "1    18    male  43.0     no   1149.40             No      Yes\n",
       "2    18    male  53.1     no   1163.46             No      Yes\n",
       "3    18  female  40.3     no   1634.57             No      Yes\n",
       "4    19  female  40.5     no   1759.34             No      Yes\n",
       "..  ...     ...   ...    ...       ...            ...      ...\n",
       "65   63    male  41.3     no  15555.19            Yes      Yes\n",
       "66   25  female  41.3     no  17878.90            Yes      Yes\n",
       "67   57    male  40.3     no  20709.02            Yes      Yes\n",
       "68   58  female  41.9     no  24227.34            Yes      Yes\n",
       "69   40  female  41.4     no  28476.73            Yes      Yes\n",
       "\n",
       "[70 rows x 7 columns]"
      ]
     },
     "execution_count": 31,
     "metadata": {},
     "output_type": "execute_result"
    }
   ],
   "source": [
    "dfobs=project_functions.obese(url)\n",
    "dfobs"
   ]
  },
  {
   "cell_type": "markdown",
   "id": "passive-whale",
   "metadata": {},
   "source": [
    "**Regression Plots**\n",
    "---"
   ]
  },
  {
   "cell_type": "markdown",
   "id": "minus-horse",
   "metadata": {},
   "source": [
    "---"
   ]
  },
  {
   "cell_type": "code",
   "execution_count": 32,
   "id": "composite-lesson",
   "metadata": {},
   "outputs": [
    {
     "data": {
      "text/plain": [
       "<seaborn.axisgrid.FacetGrid at 0x22fdd2c96d0>"
      ]
     },
     "execution_count": 32,
     "metadata": {},
     "output_type": "execute_result"
    },
    {
     "data": {
      "image/png": "[encoded data removed]",
      "text/plain": [
       "<Figure size 360x360 with 1 Axes>"
      ]
     },
     "metadata": {},
     "output_type": "display_data"
    }
   ],
   "source": [
    "project_functions.plotAvC(dfobs)"
   ]
  },
  {
   "cell_type": "markdown",
   "id": "separate-sierra",
   "metadata": {},
   "source": [
    "**Bar plots**\n",
    "---"
   ]
  },
  {
   "cell_type": "markdown",
   "id": "dried-kennedy",
   "metadata": {},
   "source": [
    "---"
   ]
  },
  {
   "cell_type": "code",
   "execution_count": 33,
   "id": "earlier-roman",
   "metadata": {},
   "outputs": [
    {
     "data": {
      "text/plain": [
       "<AxesSubplot:xlabel='Excess_charges', ylabel='Density'>"
      ]
     },
     "execution_count": 33,
     "metadata": {},
     "output_type": "execute_result"
    },
    {
     "data": {
      "image/png": "[encoded data removed]",
      "text/plain": [
       "<Figure size 432x288 with 1 Axes>"
      ]
     },
     "metadata": {},
     "output_type": "display_data"
    }
   ],
   "source": [
    "project_functions.BrPltECD(dfobs)"
   ]
  },
  {
   "cell_type": "markdown",
   "id": "arctic-cooperation",
   "metadata": {},
   "source": [
    "**Box plots**\n",
    "---"
   ]
  },
  {
   "cell_type": "code",
   "execution_count": 34,
   "id": "grand-basis",
   "metadata": {},
   "outputs": [
    {
     "data": {
      "text/plain": [
       "<AxesSubplot:xlabel='Over_BMI', ylabel='charges'>"
      ]
     },
     "execution_count": 34,
     "metadata": {},
     "output_type": "execute_result"
    },
    {
     "data": {
      "image/png": "[encoded data removed]",
      "text/plain": [
       "<Figure size 432x288 with 1 Axes>"
      ]
     },
     "metadata": {},
     "output_type": "display_data"
    }
   ],
   "source": [
    "project_functions.BoxPltob(dfobs)"
   ]
  },
  {
   "cell_type": "markdown",
   "id": "chinese-philip",
   "metadata": {},
   "source": [
    "This is quite suprising in that the extrme case of obesity shows to  have similar distributions to the healthy population with the frequency plot and box being almost similar and the regression plot showing nothing out of the ordinary for our other plots.This shows that even extreme obesity doesnt effect medical charges to a large degree, this is suprising as I thought this would of had a substancial impact on charges.\n",
    "\n",
    "All of this taken into acount we can say with confidence that the leading factor in excessive charges is smoking and not bmi of an individual."
   ]
  },
  {
   "cell_type": "code",
   "execution_count": null,
   "id": "informative-candle",
   "metadata": {},
   "outputs": [],
   "source": []
  }
 ],
 "metadata": {
  "kernelspec": {
   "display_name": "Python 3",
   "language": "python",
   "name": "python3"
  },
  "language_info": {
   "codemirror_mode": {
    "name": "ipython",
    "version": 3
   },
   "file_extension": ".py",
   "mimetype": "text/x-python",
   "name": "python",
   "nbconvert_exporter": "python",
   "pygments_lexer": "ipython3",
   "version": "3.8.5"
  }
 },
 "nbformat": 4,
 "nbformat_minor": 5
}
