{
 "cells": [
  {
   "cell_type": "code",
   "execution_count": 1,
   "id": "ruled-edmonton",
   "metadata": {},
   "outputs": [],
   "source": [
    "import pandas as pd\n",
    "import seaborn as sns\n",
    "import os\n",
    "import sys\n",
    "import project_functions\n",
    "cwd=os.getcwd()\n",
    "project_functions.RawDir()"
   ]
  },
  {
   "cell_type": "markdown",
   "id": "legal-luxembourg",
   "metadata": {},
   "source": [
    "Our original data set is given below"
   ]
  },
  {
   "cell_type": "code",
   "execution_count": 2,
   "id": "discrete-tours",
   "metadata": {},
   "outputs": [
    {
     "data": {
      "text/html": [
       "<div>\n",
       "<style scoped>\n",
       "    .dataframe tbody tr th:only-of-type {\n",
       "        vertical-align: middle;\n",
       "    }\n",
       "\n",
       "    .dataframe tbody tr th {\n",
       "        vertical-align: top;\n",
       "    }\n",
       "\n",
       "    .dataframe thead th {\n",
       "        text-align: right;\n",
       "    }\n",
       "</style>\n",
       "<table border=\"1\" class=\"dataframe\">\n",
       "  <thead>\n",
       "    <tr style=\"text-align: right;\">\n",
       "      <th></th>\n",
       "      <th>age</th>\n",
       "      <th>sex</th>\n",
       "      <th>bmi</th>\n",
       "      <th>children</th>\n",
       "      <th>smoker</th>\n",
       "      <th>region</th>\n",
       "      <th>charges</th>\n",
       "    </tr>\n",
       "  </thead>\n",
       "  <tbody>\n",
       "    <tr>\n",
       "      <th>0</th>\n",
       "      <td>19</td>\n",
       "      <td>female</td>\n",
       "      <td>27.900</td>\n",
       "      <td>0</td>\n",
       "      <td>yes</td>\n",
       "      <td>southwest</td>\n",
       "      <td>16884.92400</td>\n",
       "    </tr>\n",
       "    <tr>\n",
       "      <th>1</th>\n",
       "      <td>18</td>\n",
       "      <td>male</td>\n",
       "      <td>33.770</td>\n",
       "      <td>1</td>\n",
       "      <td>no</td>\n",
       "      <td>southeast</td>\n",
       "      <td>1725.55230</td>\n",
       "    </tr>\n",
       "    <tr>\n",
       "      <th>2</th>\n",
       "      <td>28</td>\n",
       "      <td>male</td>\n",
       "      <td>33.000</td>\n",
       "      <td>3</td>\n",
       "      <td>no</td>\n",
       "      <td>southeast</td>\n",
       "      <td>4449.46200</td>\n",
       "    </tr>\n",
       "    <tr>\n",
       "      <th>3</th>\n",
       "      <td>33</td>\n",
       "      <td>male</td>\n",
       "      <td>22.705</td>\n",
       "      <td>0</td>\n",
       "      <td>no</td>\n",
       "      <td>northwest</td>\n",
       "      <td>21984.47061</td>\n",
       "    </tr>\n",
       "    <tr>\n",
       "      <th>4</th>\n",
       "      <td>32</td>\n",
       "      <td>male</td>\n",
       "      <td>28.880</td>\n",
       "      <td>0</td>\n",
       "      <td>no</td>\n",
       "      <td>northwest</td>\n",
       "      <td>3866.85520</td>\n",
       "    </tr>\n",
       "    <tr>\n",
       "      <th>...</th>\n",
       "      <td>...</td>\n",
       "      <td>...</td>\n",
       "      <td>...</td>\n",
       "      <td>...</td>\n",
       "      <td>...</td>\n",
       "      <td>...</td>\n",
       "      <td>...</td>\n",
       "    </tr>\n",
       "    <tr>\n",
       "      <th>1333</th>\n",
       "      <td>50</td>\n",
       "      <td>male</td>\n",
       "      <td>30.970</td>\n",
       "      <td>3</td>\n",
       "      <td>no</td>\n",
       "      <td>northwest</td>\n",
       "      <td>10600.54830</td>\n",
       "    </tr>\n",
       "    <tr>\n",
       "      <th>1334</th>\n",
       "      <td>18</td>\n",
       "      <td>female</td>\n",
       "      <td>31.920</td>\n",
       "      <td>0</td>\n",
       "      <td>no</td>\n",
       "      <td>northeast</td>\n",
       "      <td>2205.98080</td>\n",
       "    </tr>\n",
       "    <tr>\n",
       "      <th>1335</th>\n",
       "      <td>18</td>\n",
       "      <td>female</td>\n",
       "      <td>36.850</td>\n",
       "      <td>0</td>\n",
       "      <td>no</td>\n",
       "      <td>southeast</td>\n",
       "      <td>1629.83350</td>\n",
       "    </tr>\n",
       "    <tr>\n",
       "      <th>1336</th>\n",
       "      <td>21</td>\n",
       "      <td>female</td>\n",
       "      <td>25.800</td>\n",
       "      <td>0</td>\n",
       "      <td>no</td>\n",
       "      <td>southwest</td>\n",
       "      <td>2007.94500</td>\n",
       "    </tr>\n",
       "    <tr>\n",
       "      <th>1337</th>\n",
       "      <td>61</td>\n",
       "      <td>female</td>\n",
       "      <td>29.070</td>\n",
       "      <td>0</td>\n",
       "      <td>yes</td>\n",
       "      <td>northwest</td>\n",
       "      <td>29141.36030</td>\n",
       "    </tr>\n",
       "  </tbody>\n",
       "</table>\n",
       "<p>1338 rows × 7 columns</p>\n",
       "</div>"
      ],
      "text/plain": [
       "      age     sex     bmi  children smoker     region      charges\n",
       "0      19  female  27.900         0    yes  southwest  16884.92400\n",
       "1      18    male  33.770         1     no  southeast   1725.55230\n",
       "2      28    male  33.000         3     no  southeast   4449.46200\n",
       "3      33    male  22.705         0     no  northwest  21984.47061\n",
       "4      32    male  28.880         0     no  northwest   3866.85520\n",
       "...   ...     ...     ...       ...    ...        ...          ...\n",
       "1333   50    male  30.970         3     no  northwest  10600.54830\n",
       "1334   18  female  31.920         0     no  northeast   2205.98080\n",
       "1335   18  female  36.850         0     no  southeast   1629.83350\n",
       "1336   21  female  25.800         0     no  southwest   2007.94500\n",
       "1337   61  female  29.070         0    yes  northwest  29141.36030\n",
       "\n",
       "[1338 rows x 7 columns]"
      ]
     },
     "execution_count": 2,
     "metadata": {},
     "output_type": "execute_result"
    }
   ],
   "source": [
    "dfo=pd.read_csv('medical_expenses.csv')\n",
    "project_functions.returnDir(cwd)\n",
    "dfo"
   ]
  },
  {
   "cell_type": "markdown",
   "id": "fallen-construction",
   "metadata": {},
   "source": [
    "This data set is describing expected medical costs in America based on other variables, it is from Machine Learning with R by Brett Lantz. This dataset is pretty clean but I will do some wrangling to it so it can be better used for analysis. From this dataset I would like to be able to answer how unhealthy life styles such as under or over average bmi and smoking effect medical charges of an individual and to what extent these factors play a roll in expected charges of an individual "
   ]
  },
  {
   "cell_type": "markdown",
   "id": "eight-abortion",
   "metadata": {},
   "source": [
    "**Data Wrangling**\n",
    "---"
   ]
  },
  {
   "cell_type": "markdown",
   "id": "dirty-construction",
   "metadata": {},
   "source": [
    "---"
   ]
  },
  {
   "cell_type": "markdown",
   "id": "demanding-excuse",
   "metadata": {},
   "source": [
    "First I would like to add some columns to this dataset and change some of the variable names to better suit the variable it is representing"
   ]
  },
  {
   "cell_type": "code",
   "execution_count": 3,
   "id": "toxic-piano",
   "metadata": {},
   "outputs": [
    {
     "data": {
      "text/html": [
       "<div>\n",
       "<style scoped>\n",
       "    .dataframe tbody tr th:only-of-type {\n",
       "        vertical-align: middle;\n",
       "    }\n",
       "\n",
       "    .dataframe tbody tr th {\n",
       "        vertical-align: top;\n",
       "    }\n",
       "\n",
       "    .dataframe thead th {\n",
       "        text-align: right;\n",
       "    }\n",
       "</style>\n",
       "<table border=\"1\" class=\"dataframe\">\n",
       "  <thead>\n",
       "    <tr style=\"text-align: right;\">\n",
       "      <th></th>\n",
       "      <th>age</th>\n",
       "      <th>sex</th>\n",
       "      <th>bmi</th>\n",
       "      <th>smoker</th>\n",
       "      <th>charges</th>\n",
       "      <th>Excess_charges</th>\n",
       "      <th>Over_BMI</th>\n",
       "      <th>Under_BMI</th>\n",
       "      <th>Healthy</th>\n",
       "    </tr>\n",
       "  </thead>\n",
       "  <tbody>\n",
       "    <tr>\n",
       "      <th>0</th>\n",
       "      <td>18</td>\n",
       "      <td>male</td>\n",
       "      <td>23.2</td>\n",
       "      <td>no</td>\n",
       "      <td>1121.87</td>\n",
       "      <td>No</td>\n",
       "      <td>No</td>\n",
       "      <td>No</td>\n",
       "      <td>yes</td>\n",
       "    </tr>\n",
       "    <tr>\n",
       "      <th>1</th>\n",
       "      <td>18</td>\n",
       "      <td>male</td>\n",
       "      <td>30.1</td>\n",
       "      <td>no</td>\n",
       "      <td>1131.51</td>\n",
       "      <td>No</td>\n",
       "      <td>Yes</td>\n",
       "      <td>No</td>\n",
       "      <td>no</td>\n",
       "    </tr>\n",
       "    <tr>\n",
       "      <th>2</th>\n",
       "      <td>18</td>\n",
       "      <td>male</td>\n",
       "      <td>33.3</td>\n",
       "      <td>no</td>\n",
       "      <td>1135.94</td>\n",
       "      <td>No</td>\n",
       "      <td>Yes</td>\n",
       "      <td>No</td>\n",
       "      <td>no</td>\n",
       "    </tr>\n",
       "    <tr>\n",
       "      <th>3</th>\n",
       "      <td>18</td>\n",
       "      <td>male</td>\n",
       "      <td>33.7</td>\n",
       "      <td>no</td>\n",
       "      <td>1136.40</td>\n",
       "      <td>No</td>\n",
       "      <td>Yes</td>\n",
       "      <td>No</td>\n",
       "      <td>no</td>\n",
       "    </tr>\n",
       "    <tr>\n",
       "      <th>4</th>\n",
       "      <td>18</td>\n",
       "      <td>male</td>\n",
       "      <td>34.1</td>\n",
       "      <td>no</td>\n",
       "      <td>1137.01</td>\n",
       "      <td>No</td>\n",
       "      <td>Yes</td>\n",
       "      <td>No</td>\n",
       "      <td>no</td>\n",
       "    </tr>\n",
       "    <tr>\n",
       "      <th>...</th>\n",
       "      <td>...</td>\n",
       "      <td>...</td>\n",
       "      <td>...</td>\n",
       "      <td>...</td>\n",
       "      <td>...</td>\n",
       "      <td>...</td>\n",
       "      <td>...</td>\n",
       "      <td>...</td>\n",
       "      <td>...</td>\n",
       "    </tr>\n",
       "    <tr>\n",
       "      <th>1333</th>\n",
       "      <td>33</td>\n",
       "      <td>female</td>\n",
       "      <td>35.5</td>\n",
       "      <td>yes</td>\n",
       "      <td>55135.40</td>\n",
       "      <td>Yes</td>\n",
       "      <td>Yes</td>\n",
       "      <td>No</td>\n",
       "      <td>no</td>\n",
       "    </tr>\n",
       "    <tr>\n",
       "      <th>1334</th>\n",
       "      <td>31</td>\n",
       "      <td>female</td>\n",
       "      <td>38.1</td>\n",
       "      <td>yes</td>\n",
       "      <td>58571.07</td>\n",
       "      <td>Yes</td>\n",
       "      <td>Yes</td>\n",
       "      <td>No</td>\n",
       "      <td>no</td>\n",
       "    </tr>\n",
       "    <tr>\n",
       "      <th>1335</th>\n",
       "      <td>52</td>\n",
       "      <td>male</td>\n",
       "      <td>34.5</td>\n",
       "      <td>yes</td>\n",
       "      <td>60021.40</td>\n",
       "      <td>Yes</td>\n",
       "      <td>Yes</td>\n",
       "      <td>No</td>\n",
       "      <td>no</td>\n",
       "    </tr>\n",
       "    <tr>\n",
       "      <th>1336</th>\n",
       "      <td>45</td>\n",
       "      <td>male</td>\n",
       "      <td>30.4</td>\n",
       "      <td>yes</td>\n",
       "      <td>62592.87</td>\n",
       "      <td>Yes</td>\n",
       "      <td>Yes</td>\n",
       "      <td>No</td>\n",
       "      <td>no</td>\n",
       "    </tr>\n",
       "    <tr>\n",
       "      <th>1337</th>\n",
       "      <td>54</td>\n",
       "      <td>female</td>\n",
       "      <td>47.4</td>\n",
       "      <td>yes</td>\n",
       "      <td>63770.43</td>\n",
       "      <td>Yes</td>\n",
       "      <td>Yes</td>\n",
       "      <td>No</td>\n",
       "      <td>no</td>\n",
       "    </tr>\n",
       "  </tbody>\n",
       "</table>\n",
       "<p>1338 rows × 9 columns</p>\n",
       "</div>"
      ],
      "text/plain": [
       "      age     sex   bmi smoker   charges Excess_charges Over_BMI Under_BMI  \\\n",
       "0      18    male  23.2     no   1121.87             No       No        No   \n",
       "1      18    male  30.1     no   1131.51             No      Yes        No   \n",
       "2      18    male  33.3     no   1135.94             No      Yes        No   \n",
       "3      18    male  33.7     no   1136.40             No      Yes        No   \n",
       "4      18    male  34.1     no   1137.01             No      Yes        No   \n",
       "...   ...     ...   ...    ...       ...            ...      ...       ...   \n",
       "1333   33  female  35.5    yes  55135.40            Yes      Yes        No   \n",
       "1334   31  female  38.1    yes  58571.07            Yes      Yes        No   \n",
       "1335   52    male  34.5    yes  60021.40            Yes      Yes        No   \n",
       "1336   45    male  30.4    yes  62592.87            Yes      Yes        No   \n",
       "1337   54  female  47.4    yes  63770.43            Yes      Yes        No   \n",
       "\n",
       "     Healthy  \n",
       "0        yes  \n",
       "1         no  \n",
       "2         no  \n",
       "3         no  \n",
       "4         no  \n",
       "...      ...  \n",
       "1333      no  \n",
       "1334      no  \n",
       "1335      no  \n",
       "1336      no  \n",
       "1337      no  \n",
       "\n",
       "[1338 rows x 9 columns]"
      ]
     },
     "execution_count": 3,
     "metadata": {},
     "output_type": "execute_result"
    }
   ],
   "source": [
    "df=project_functions.load_and_process(cwd)\n",
    "df"
   ]
  },
  {
   "cell_type": "markdown",
   "id": "coordinate-cemetery",
   "metadata": {},
   "source": [
    "Here i dropped the children and the region column as they wont be used in further analysis so they are redundant and I rounded the bmi amd charges to values that are more commonly used."
   ]
  },
  {
   "cell_type": "code",
   "execution_count": 4,
   "id": "spanish-biography",
   "metadata": {},
   "outputs": [
    {
     "data": {
      "text/plain": [
       "13270.42"
      ]
     },
     "execution_count": 4,
     "metadata": {},
     "output_type": "execute_result"
    }
   ],
   "source": [
    "project_functions.mean(df)"
   ]
  },
  {
   "cell_type": "markdown",
   "id": "every-consciousness",
   "metadata": {},
   "source": [
    "Taking a mean of the charges column returns a value of 13270.42 which we used to determine if the patient is given excessive charges which means they pay out more than expected on average. Next i want to seperate the data sets into healthy and not healthy populations to see how excessive charges changes throughout the population"
   ]
  },
  {
   "cell_type": "code",
   "execution_count": 5,
   "id": "golden-accident",
   "metadata": {},
   "outputs": [
    {
     "ename": "NameError",
     "evalue": "name 'url' is not defined",
     "output_type": "error",
     "traceback": [
      "\u001b[1;31m---------------------------------------------------------------------------\u001b[0m",
      "\u001b[1;31mNameError\u001b[0m                                 Traceback (most recent call last)",
      "\u001b[1;32m<ipython-input-5-5804fd96b265>\u001b[0m in \u001b[0;36m<module>\u001b[1;34m\u001b[0m\n\u001b[1;32m----> 1\u001b[1;33m \u001b[0mdfh\u001b[0m \u001b[1;33m=\u001b[0m \u001b[0mproject_functions\u001b[0m\u001b[1;33m.\u001b[0m\u001b[0mHealth\u001b[0m\u001b[1;33m(\u001b[0m\u001b[0murl\u001b[0m\u001b[1;33m)\u001b[0m\u001b[1;33m\u001b[0m\u001b[1;33m\u001b[0m\u001b[0m\n\u001b[0m\u001b[0;32m      2\u001b[0m \u001b[0mdfun\u001b[0m \u001b[1;33m=\u001b[0m\u001b[0mproject_functions\u001b[0m\u001b[1;33m.\u001b[0m\u001b[0munHealth\u001b[0m\u001b[1;33m(\u001b[0m\u001b[0murl\u001b[0m\u001b[1;33m)\u001b[0m\u001b[1;33m\u001b[0m\u001b[1;33m\u001b[0m\u001b[0m\n",
      "\u001b[1;31mNameError\u001b[0m: name 'url' is not defined"
     ]
    }
   ],
   "source": [
    "dfh = project_functions.Health(url)\n",
    "dfun =project_functions.unHealth(url)"
   ]
  },
  {
   "cell_type": "code",
   "execution_count": null,
   "id": "distributed-hacker",
   "metadata": {},
   "outputs": [],
   "source": [
    "dfh"
   ]
  },
  {
   "cell_type": "markdown",
   "id": "considerable-malpractice",
   "metadata": {},
   "source": [
    "Here is the data set for healthy people, the requirements for this was to be in healthy bmi range of 18.5-24.9 and to not be a smoker."
   ]
  },
  {
   "cell_type": "code",
   "execution_count": null,
   "id": "comprehensive-samuel",
   "metadata": {},
   "outputs": [],
   "source": [
    "dfun"
   ]
  },
  {
   "cell_type": "markdown",
   "id": "sonic-contest",
   "metadata": {},
   "source": [
    "Here is the data set for unhealthy people the requirments are the inverse of the healthy data set thus they have to be outside the healthy bmi range or be classified as a smoker. We can first look at some regression plots of age vs charges to see how having a unhealthy lifestyle effects the charges"
   ]
  },
  {
   "cell_type": "markdown",
   "id": "grateful-intersection",
   "metadata": {},
   "source": [
    "**Regression Plots**\n",
    "---"
   ]
  },
  {
   "cell_type": "markdown",
   "id": "joint-stuff",
   "metadata": {},
   "source": [
    "---"
   ]
  },
  {
   "cell_type": "code",
   "execution_count": null,
   "id": "external-nation",
   "metadata": {},
   "outputs": [],
   "source": [
    "project_functions.plotAvC(df)"
   ]
  },
  {
   "cell_type": "markdown",
   "id": "pointed-sunday",
   "metadata": {},
   "source": [
    "Regression plot for whole population"
   ]
  },
  {
   "cell_type": "code",
   "execution_count": null,
   "id": "interesting-evaluation",
   "metadata": {},
   "outputs": [],
   "source": [
    "project_functions.plotAvC(dfh)"
   ]
  },
  {
   "cell_type": "markdown",
   "id": "progressive-layout",
   "metadata": {},
   "source": [
    "Regression plot for healthy indivduals"
   ]
  },
  {
   "cell_type": "code",
   "execution_count": null,
   "id": "biblical-roberts",
   "metadata": {},
   "outputs": [],
   "source": [
    "project_functions.plotAvC(dfun)"
   ]
  },
  {
   "cell_type": "markdown",
   "id": "encouraging-small",
   "metadata": {},
   "source": [
    "Regression plot for unhelathy individuals"
   ]
  },
  {
   "cell_type": "markdown",
   "id": "dying-climate",
   "metadata": {},
   "source": [
    "from a quick look we can clearly tell from the regression line that having a unhealthy habit leads to on average a higher charge at each age with only the outliers of the healthy individuals coming close to the average of the unhealthy ones.This is fairly ordinary as more unhealthy habits require more health check uos etc.However on closer inspection we see that in this unhealthy group there is a lot of spread of data points with there looking like there is actually 3 populations in this dataset, this makes sense as the requirement of this dataset was to be smoker OR outside the healthy bmi range which results in 3 different datsets more on that later.\n",
    "\n",
    "For now we can look at how more likely a indiviudal is to have excess charges if they have a unhealthy trait with frequency ar counts."
   ]
  },
  {
   "cell_type": "markdown",
   "id": "composite-address",
   "metadata": {},
   "source": [
    "**Bar plots**\n",
    "---"
   ]
  },
  {
   "cell_type": "markdown",
   "id": "generous-devil",
   "metadata": {},
   "source": [
    "---"
   ]
  },
  {
   "cell_type": "code",
   "execution_count": null,
   "id": "dominican-coordination",
   "metadata": {},
   "outputs": [],
   "source": [
    "project_functions.BrPltECD(df)"
   ]
  },
  {
   "cell_type": "markdown",
   "id": "manufactured-mediterranean",
   "metadata": {},
   "source": [
    "Bar plot for whole population"
   ]
  },
  {
   "cell_type": "code",
   "execution_count": null,
   "id": "desperate-mercy",
   "metadata": {},
   "outputs": [],
   "source": [
    "project_functions.BrPltECD(dfh)"
   ]
  },
  {
   "cell_type": "markdown",
   "id": "mediterranean-pierre",
   "metadata": {},
   "source": [
    "frequency count of if an indivdual is to recieve excess charges in healthy population"
   ]
  },
  {
   "cell_type": "code",
   "execution_count": null,
   "id": "dying-zoning",
   "metadata": {},
   "outputs": [],
   "source": [
    "project_functions.BrPltECD(dfun)"
   ]
  },
  {
   "cell_type": "markdown",
   "id": "tough-momentum",
   "metadata": {},
   "source": [
    "frequency count of if an indivdual is to recieve excess charges in unhealthy population"
   ]
  },
  {
   "cell_type": "markdown",
   "id": "assisted-stock",
   "metadata": {},
   "source": [
    "This further reinforces that a unhealthly life choice leads to a higher chance of an individual receiving a higher than average medical bill charge. We saw that there was outliers on the regression plots and we also couldnt see how much the data was spread for the healthy and unhealthy groups to better visualise this we can use box plots"
   ]
  },
  {
   "cell_type": "markdown",
   "id": "incorporated-black",
   "metadata": {},
   "source": [
    "**Box plots**\n",
    "---"
   ]
  },
  {
   "cell_type": "markdown",
   "id": "emerging-march",
   "metadata": {},
   "source": [
    "---"
   ]
  },
  {
   "cell_type": "code",
   "execution_count": null,
   "id": "temporal-third",
   "metadata": {},
   "outputs": [],
   "source": [
    "project_functions.BoxPlt(df)"
   ]
  },
  {
   "cell_type": "markdown",
   "id": "pointed-crack",
   "metadata": {},
   "source": [
    "This further shows us the spread of the unhealthy charges this is due to their being multiple distrubutions collected in there but from the analysis of healthy vs unhealthy it further shows how much less the people with a healthy life style pay less charges. We can draw many conclusions just from this graph, we can see that 75% of the healthy population pay less than 10,000 whilst only 50% of the unhealthy population pays below this figure."
   ]
  },
  {
   "cell_type": "markdown",
   "id": "racial-preparation",
   "metadata": {},
   "source": [
    "**different Unhealthy categories**\n",
    "---"
   ]
  },
  {
   "cell_type": "markdown",
   "id": "funny-florida",
   "metadata": {},
   "source": [
    "---"
   ]
  },
  {
   "cell_type": "markdown",
   "id": "alternate-physiology",
   "metadata": {},
   "source": [
    "We mentioned earlier how in the unhelathy regression plot there seemed to be 3 different distributions now lets look at these in further depth and how they effect the charges, the 3 categories for this are under bmi,over bmi and smokers. First lets create data frames for each of these categories with only one variable per person"
   ]
  },
  {
   "cell_type": "code",
   "execution_count": null,
   "id": "beautiful-cherry",
   "metadata": {},
   "outputs": [],
   "source": [
    "dfs=project_functions.smoker(url)\n",
    "dfs"
   ]
  },
  {
   "cell_type": "markdown",
   "id": "aware-meter",
   "metadata": {},
   "source": [
    "Data frame for smokers only"
   ]
  },
  {
   "cell_type": "code",
   "execution_count": null,
   "id": "accomplished-packet",
   "metadata": {},
   "outputs": [],
   "source": [
    "dfob=project_functions.overBmi(url)\n",
    "dfob"
   ]
  },
  {
   "cell_type": "markdown",
   "id": "breeding-quilt",
   "metadata": {},
   "source": [
    "Data frame for over average bmi"
   ]
  },
  {
   "cell_type": "code",
   "execution_count": null,
   "id": "necessary-birmingham",
   "metadata": {},
   "outputs": [],
   "source": [
    "dfub=project_functions.underBmi(url)\n",
    "dfub"
   ]
  },
  {
   "cell_type": "markdown",
   "id": "frozen-structure",
   "metadata": {},
   "source": [
    "Dataframe for under average bmi"
   ]
  },
  {
   "cell_type": "markdown",
   "id": "educated-broadway",
   "metadata": {},
   "source": [
    "**Regression Plots**\n",
    "---"
   ]
  },
  {
   "cell_type": "code",
   "execution_count": null,
   "id": "bronze-translation",
   "metadata": {},
   "outputs": [],
   "source": [
    "project_functions.plotAvC(dfs)"
   ]
  },
  {
   "cell_type": "markdown",
   "id": "informal-desire",
   "metadata": {},
   "source": [
    "Regression plot for smokers only\n",
    "\n",
    "We see here that the smokers at the least pay around 14,000 this is larger than the average charge for all patients, this suggests that the leading factor in large charges is smoking"
   ]
  },
  {
   "cell_type": "code",
   "execution_count": null,
   "id": "collective-visibility",
   "metadata": {},
   "outputs": [],
   "source": [
    "project_functions.plotAvC(dfob)"
   ]
  },
  {
   "cell_type": "markdown",
   "id": "functional-wilson",
   "metadata": {},
   "source": [
    "Regression plot for over weight people\n",
    "\n",
    "Here is where we see the majority of our population and this looks very similar to the regression plot of healthy individuals with a similar frequency of outliers above the regression line to the healthy case this points towards elimination of over average bmi from being a leading factor in above average charges."
   ]
  },
  {
   "cell_type": "code",
   "execution_count": null,
   "id": "relevant-biology",
   "metadata": {},
   "outputs": [],
   "source": [
    "project_functions.plotAvC(dfub)"
   ]
  },
  {
   "cell_type": "markdown",
   "id": "whole-hierarchy",
   "metadata": {},
   "source": [
    "Regression plot for underweight people only\n",
    "\n",
    "This regression plot actually shows a under average bmi leads towards a much lower charge per age as the lowest charge is around 2000 whilst the maxium is only around 13,000, however this is a very small population compared to the other cases of only 14 so we cannot say this is for certain but thsi evidence combined with the over average bmi helps eliminate bmi being a leading cause in excess medical charges"
   ]
  },
  {
   "cell_type": "markdown",
   "id": "religious-clause",
   "metadata": {},
   "source": [
    "These regression plots mostly show that the smokers have a large variety in the charges at each age and that bmi actually does not have too much of effect on the charges at each age and that a lower bmi actually looks like it causes a lower charge at each age group."
   ]
  },
  {
   "cell_type": "markdown",
   "id": "perceived-thumbnail",
   "metadata": {},
   "source": [
    "**Bar Plots**\n",
    "---"
   ]
  },
  {
   "cell_type": "markdown",
   "id": "compliant-rolling",
   "metadata": {},
   "source": [
    "---"
   ]
  },
  {
   "cell_type": "code",
   "execution_count": null,
   "id": "fluid-barcelona",
   "metadata": {},
   "outputs": [],
   "source": [
    "project_functions.BrPltECD(dfs)"
   ]
  },
  {
   "cell_type": "markdown",
   "id": "quiet-request",
   "metadata": {},
   "source": [
    "Bar plot for smokers only\n",
    "\n",
    "This further shows that smoking is a leading factor in excess medical charges as from a respectiable sample size we've shown that everyone who smokes will have excess charges."
   ]
  },
  {
   "cell_type": "code",
   "execution_count": null,
   "id": "annoying-effect",
   "metadata": {},
   "outputs": [],
   "source": [
    "project_functions.BrPltECD(dfob)"
   ]
  },
  {
   "cell_type": "markdown",
   "id": "powerful-moore",
   "metadata": {},
   "source": [
    "Bar plot for over weight people only\n",
    "\n",
    "Here we see that over weight people are more likely to have excess charges as compared to healthy people as they appear to be charged excess charges around 0.15 where as healthy people around around 0.1. This shows that having a over average bmi leads towards a higher chance of being charged more than average costs this is further backed up as this population was quite large so it can be used to draw a better conclusion, there was some outliers but we can compare those with bar plots later."
   ]
  },
  {
   "cell_type": "code",
   "execution_count": null,
   "id": "square-security",
   "metadata": {},
   "outputs": [],
   "source": [
    "project_functions.BrPltECD(dfub)"
   ]
  },
  {
   "cell_type": "markdown",
   "id": "divided-payday",
   "metadata": {},
   "source": [
    "Bar plot for under weight people only\n",
    "\n",
    "Here we see something interesting in that under weight people only get charged under the average charges. This is interesting but could be down to the small sample size of this population because of this i wont draw a conclusion that a lower bmi leads to lower medical fees but it can be used to rule it out in a leading factor for higher fees."
   ]
  },
  {
   "cell_type": "markdown",
   "id": "variable-apparatus",
   "metadata": {},
   "source": [
    "**Box Plots**\n",
    "---"
   ]
  },
  {
   "cell_type": "markdown",
   "id": "single-turner",
   "metadata": {},
   "source": [
    "---"
   ]
  },
  {
   "cell_type": "code",
   "execution_count": null,
   "id": "aggregate-trade",
   "metadata": {},
   "outputs": [],
   "source": [
    "project_functions.BoxPltob(df)"
   ]
  },
  {
   "cell_type": "markdown",
   "id": "injured-question",
   "metadata": {},
   "source": [
    "Box plot of not over weight vs over weight\n",
    "\n",
    "Here we can see the over bmi population has a similar spread copared to healthy bmi but the over bmi is shifted upwards by a slight amount, we also see the over bmi has more outliers but this is expected due to a larger population size. This larger population size for over bmi could be due to the increasing obesity crisis in America thus more people are likely to be overweight as this is more normal this could be the reason that the frequency wasnt much higher for this group as its more likely to shift the mean of the dataset. So the higher frequency of excess charges and the more outliers in this case point towards the over bmi population having a larger medical charge on average as the outliers skew the mean thus it isnt a true representation of the mean which would need more investitgation."
   ]
  },
  {
   "cell_type": "code",
   "execution_count": null,
   "id": "russian-eleven",
   "metadata": {},
   "outputs": [],
   "source": [
    "project_functions.BoxPltub(df)"
   ]
  },
  {
   "cell_type": "markdown",
   "id": "fifth-storm",
   "metadata": {},
   "source": [
    "Box plot of not under weight vs under weight\n",
    "\n",
    "Again we see that the average costs for under bmi is lower and the spread of the data seemes to be the same as the healthy case, there are no outliers in this under bmi population so the mean is more representative of the population."
   ]
  },
  {
   "cell_type": "code",
   "execution_count": null,
   "id": "canadian-course",
   "metadata": {},
   "outputs": [],
   "source": [
    "project_functions.BoxPlts(df)"
   ]
  },
  {
   "cell_type": "markdown",
   "id": "dietary-faith",
   "metadata": {},
   "source": [
    "Box plot of non smokers vs smokers\n",
    "\n",
    "The smoker population spread is clearly much larger and higher than the healthy population, we also see no outliers in this case so this spread is a good representation of the whole smoker population. It's obvious looking at this and the previous examples that smoking is the dominate factor in higher medical fees"
   ]
  },
  {
   "cell_type": "markdown",
   "id": "prerequisite-aside",
   "metadata": {},
   "source": [
    "From the previous plots we saw that bmi doesnt have too much of an influence in charges, and in fact a lower bmi looked to cause lower fees but the population was too small to draw concrete conclusions from, but in the over bmi case we could look at the higher bmi which would be closer to the obese cases and would look at more extreme cases from the average population. From this we also saw that smoking was the dominant factor for the higher fees which we will investigate some more."
   ]
  },
  {
   "cell_type": "markdown",
   "id": "possible-steel",
   "metadata": {},
   "source": [
    "**Smokers**\n",
    "---"
   ]
  },
  {
   "cell_type": "markdown",
   "id": "pleasant-window",
   "metadata": {},
   "source": [
    "---"
   ]
  },
  {
   "cell_type": "markdown",
   "id": "radio-gamma",
   "metadata": {},
   "source": [
    "We saw from the previous analysis that isolating only idividuals who only smoked showed a trend of excessive medical charges now I want to look at how people who smoke and have different bmi differ with their medical charges"
   ]
  },
  {
   "cell_type": "code",
   "execution_count": null,
   "id": "overall-mexican",
   "metadata": {},
   "outputs": [],
   "source": [
    "dfas=project_functions.allsmoker(url)\n",
    "dfas"
   ]
  },
  {
   "cell_type": "markdown",
   "id": "unusual-horror",
   "metadata": {},
   "source": [
    "**Regression Plots**\n",
    "---"
   ]
  },
  {
   "cell_type": "markdown",
   "id": "grateful-intro",
   "metadata": {},
   "source": [
    "---"
   ]
  },
  {
   "cell_type": "code",
   "execution_count": null,
   "id": "stuck-passing",
   "metadata": {},
   "outputs": [],
   "source": [
    "project_functions.plotAvC(dfas)"
   ]
  },
  {
   "cell_type": "markdown",
   "id": "plain-impact",
   "metadata": {},
   "source": [
    "**Bar Plots**\n",
    "---"
   ]
  },
  {
   "cell_type": "markdown",
   "id": "eastern-suspension",
   "metadata": {},
   "source": [
    "---"
   ]
  },
  {
   "cell_type": "code",
   "execution_count": null,
   "id": "synthetic-airplane",
   "metadata": {},
   "outputs": [],
   "source": [
    "project_functions.BrPltECD(dfas)"
   ]
  },
  {
   "cell_type": "markdown",
   "id": "suspended-swimming",
   "metadata": {},
   "source": [
    "**Box Plot**\n",
    "---"
   ]
  },
  {
   "cell_type": "code",
   "execution_count": null,
   "id": "forbidden-substance",
   "metadata": {},
   "outputs": [],
   "source": [
    "project_functions.BoxPlts(dfas)"
   ]
  },
  {
   "cell_type": "markdown",
   "id": "raised-michigan",
   "metadata": {},
   "source": [
    "Looking at these  plots its clear to see that even when we extend the smokers case to all the people that do smoke that excess charges is always common between the population. Now we have a larger population we can draw a more concrete conclusion, the regression plot shows us that most of the above average charges are associated with smokers this is further backed up by the bar plot which shows almost all of the population of smokers have above average charges, the final nail for the argument that smoking is the leading factor in higher than average charges is the box plot which shows no outliers and the smallest fee being only just below the excessive charges threshold."
   ]
  },
  {
   "cell_type": "markdown",
   "id": "overall-marketing",
   "metadata": {},
   "source": [
    "**Obese**\n",
    "---"
   ]
  },
  {
   "cell_type": "markdown",
   "id": "correct-logging",
   "metadata": {},
   "source": [
    "---"
   ]
  },
  {
   "cell_type": "markdown",
   "id": "structured-specialist",
   "metadata": {},
   "source": [
    "Now i want to look at how extreme obeseity effects the charges, this is classified as a value of 40 or higher"
   ]
  },
  {
   "cell_type": "code",
   "execution_count": null,
   "id": "right-academy",
   "metadata": {},
   "outputs": [],
   "source": [
    "dfobs=project_functions.obese(url)\n",
    "dfobs"
   ]
  },
  {
   "cell_type": "markdown",
   "id": "passive-whale",
   "metadata": {},
   "source": [
    "**Regression Plots**\n",
    "---"
   ]
  },
  {
   "cell_type": "markdown",
   "id": "minus-horse",
   "metadata": {},
   "source": [
    "---"
   ]
  },
  {
   "cell_type": "code",
   "execution_count": null,
   "id": "composite-lesson",
   "metadata": {},
   "outputs": [],
   "source": [
    "project_functions.plotAvC(dfobs)"
   ]
  },
  {
   "cell_type": "markdown",
   "id": "separate-sierra",
   "metadata": {},
   "source": [
    "**Bar plots**\n",
    "---"
   ]
  },
  {
   "cell_type": "markdown",
   "id": "dried-kennedy",
   "metadata": {},
   "source": [
    "---"
   ]
  },
  {
   "cell_type": "code",
   "execution_count": null,
   "id": "earlier-roman",
   "metadata": {},
   "outputs": [],
   "source": [
    "project_functions.BrPltECD(dfobs)"
   ]
  },
  {
   "cell_type": "markdown",
   "id": "arctic-cooperation",
   "metadata": {},
   "source": [
    "**Box plots**\n",
    "---"
   ]
  },
  {
   "cell_type": "code",
   "execution_count": null,
   "id": "grand-basis",
   "metadata": {},
   "outputs": [],
   "source": [
    "project_functions.BoxPltob(dfobs)"
   ]
  },
  {
   "cell_type": "markdown",
   "id": "chinese-philip",
   "metadata": {},
   "source": [
    "This is quite suprising in that the extrme case of obesity shows to  have similar distributions to the healthy population with the frequency plot and box being almost similar and the regression plot showing nothing out of the ordinary for our other plots.This shows that even extreme obesity doesnt effect medical charges to a large degree, this is suprising as I thought this would of had a substancial impact on charges.\n",
    "\n",
    "All of this taken into acount we can say with confidence that the leading factor in excessive charges is smoking and not bmi of an individual."
   ]
  },
  {
   "cell_type": "code",
   "execution_count": null,
   "id": "informative-candle",
   "metadata": {},
   "outputs": [],
   "source": []
  }
 ],
 "metadata": {
  "kernelspec": {
   "display_name": "Python 3",
   "language": "python",
   "name": "python3"
  },
  "language_info": {
   "codemirror_mode": {
    "name": "ipython",
    "version": 3
   },
   "file_extension": ".py",
   "mimetype": "text/x-python",
   "name": "python",
   "nbconvert_exporter": "python",
   "pygments_lexer": "ipython3",
   "version": "3.8.8"
  }
 },
 "nbformat": 4,
 "nbformat_minor": 5
}
