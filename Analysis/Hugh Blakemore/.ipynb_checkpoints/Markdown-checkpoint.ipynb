{
 "cells": [
  {
   "cell_type": "markdown",
   "id": "south-capability",
   "metadata": {},
   "source": [
    "**(*To do bold italic text use one star then bracket text then do double stars*)**"
   ]
  },
  {
   "attachments": {},
   "cell_type": "markdown",
   "id": "considered-afghanistan",
   "metadata": {},
   "source": [
    ">this is quoted text"
   ]
  },
  {
   "cell_type": "markdown",
   "id": "stone-segment",
   "metadata": {},
   "source": [
    "this is normal text"
   ]
  },
  {
   "cell_type": "markdown",
   "id": "north-diagnosis",
   "metadata": {},
   "source": [
    "---"
   ]
  },
  {
   "cell_type": "markdown",
   "id": "everyday-conflict",
   "metadata": {},
   "source": [
    "[Link to dataset for project](https://raw.githubusercontent.com/data301-2020-winter2/course-project-group_1017/main/Data/Raw/medical_expenses.csv)"
   ]
  },
  {
   "cell_type": "code",
   "execution_count": null,
   "id": "olive-drive",
   "metadata": {},
   "outputs": [],
   "source": []
  }
 ],
 "metadata": {
  "kernelspec": {
   "display_name": "Python 3",
   "language": "python",
   "name": "python3"
  },
  "language_info": {
   "codemirror_mode": {
    "name": "ipython",
    "version": 3
   },
   "file_extension": ".py",
   "mimetype": "text/x-python",
   "name": "python",
   "nbconvert_exporter": "python",
   "pygments_lexer": "ipython3",
   "version": "3.8.8"
  }
 },
 "nbformat": 4,
 "nbformat_minor": 5
}
