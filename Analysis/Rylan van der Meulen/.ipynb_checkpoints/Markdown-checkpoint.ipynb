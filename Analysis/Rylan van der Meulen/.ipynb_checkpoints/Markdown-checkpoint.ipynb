{
 "cells": [
  {
   "cell_type": "markdown",
   "id": "baking-hungary",
   "metadata": {},
   "source": [
    "**bold text**"
   ]
  },
  {
   "cell_type": "markdown",
   "id": "suited-rating",
   "metadata": {},
   "source": [
    "*italic text*"
   ]
  },
  {
   "cell_type": "markdown",
   "id": "serial-tanzania",
   "metadata": {},
   "source": [
    "> quoted text"
   ]
  },
  {
   "cell_type": "markdown",
   "id": "honest-happiness",
   "metadata": {},
   "source": []
  },
  {
   "cell_type": "markdown",
   "id": "rotary-hunter",
   "metadata": {},
   "source": []
  }
 ],
 "metadata": {
  "kernelspec": {
   "display_name": "Python 3",
   "language": "python",
   "name": "python3"
  },
  "language_info": {
   "codemirror_mode": {
    "name": "ipython",
    "version": 3
   },
   "file_extension": ".py",
   "mimetype": "text/x-python",
   "name": "python",
   "nbconvert_exporter": "python",
   "pygments_lexer": "ipython3",
   "version": "3.8.5"
  }
 },
 "nbformat": 4,
 "nbformat_minor": 5
}
